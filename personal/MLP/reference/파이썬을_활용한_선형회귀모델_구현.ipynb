{
 "cells": [
  {
   "cell_type": "markdown",
   "metadata": {
    "colab_type": "text",
    "id": "view-in-github"
   },
   "source": [
    "<a href=\"https://colab.research.google.com/github/duc-ke/study_isg_deeplearning/blob/master/%ED%8C%8C%EC%9D%B4%EC%8D%AC%EC%9D%84_%ED%99%9C%EC%9A%A9%ED%95%9C_%EC%84%A0%ED%98%95%ED%9A%8C%EA%B7%80%EB%AA%A8%EB%8D%B8_%EA%B5%AC%ED%98%84.ipynb\" target=\"_parent\"><img src=\"https://colab.research.google.com/assets/colab-badge.svg\" alt=\"Open In Colab\"/></a>"
   ]
  },
  {
   "cell_type": "markdown",
   "metadata": {
    "colab_type": "text",
    "id": "ScoYls-TSPkR"
   },
   "source": [
    "### GPU 환경설정\n",
    "기본 CPU연산보다 GPU연산을 하면 학습 속도가 확연히 빨라짐.\n",
    "\n",
    "**설정방법**\n",
    "* `메뉴`-`런타임`-`런타임유형변경`-`하드웨어가속기`-`GPU`-`저장`"
   ]
  },
  {
   "cell_type": "markdown",
   "metadata": {
    "colab_type": "text",
    "id": "AQYQjJEnSzH_"
   },
   "source": [
    "### 인풋 파일 업로드 방법 선택"
   ]
  },
  {
   "cell_type": "markdown",
   "metadata": {
    "colab_type": "text",
    "id": "Q66ML7eJQNmy"
   },
   "source": [
    "#### 선택1. Github에 있는 인풋파일을 이용하기"
   ]
  },
  {
   "cell_type": "code",
   "execution_count": 0,
   "metadata": {
    "colab": {
     "base_uri": "https://localhost:8080/",
     "height": 34
    },
    "colab_type": "code",
    "id": "ZZESNzoNQeVz",
    "outputId": "77e484f9-6ec9-4981-db00-464d38ef47ba"
   },
   "outputs": [
    {
     "name": "stdout",
     "output_type": "stream",
     "text": [
      "fatal: destination path 'study_isg_deeplearning' already exists and is not an empty directory.\n"
     ]
    }
   ],
   "source": [
    "# study_isg_deeplearning git clone\n",
    "!git clone https://github.com/duc-ke/study_isg_deeplearning.git\n",
    "input_file = 'study_isg_deeplearning/heigh_weight.csv'"
   ]
  },
  {
   "cell_type": "code",
   "execution_count": 0,
   "metadata": {
    "colab": {
     "base_uri": "https://localhost:8080/",
     "height": 34
    },
    "colab_type": "code",
    "id": "Ott9OyiiRCwo",
    "outputId": "27aac833-ecb3-4a22-8702-54b5b9e15dbe"
   },
   "outputs": [
    {
     "data": {
      "text/plain": [
       "'study_isg_deeplearning/heigh_weight.csv'"
      ]
     },
     "execution_count": 3,
     "metadata": {
      "tags": []
     },
     "output_type": "execute_result"
    }
   ],
   "source": [
    "input_file"
   ]
  },
  {
   "cell_type": "markdown",
   "metadata": {
    "colab_type": "text",
    "id": "zSzvZQjtP-Sl"
   },
   "source": [
    "#### 선택2. 파일을 직접 올리고 싶다면 아래의 주석을 풀어 업로드\n"
   ]
  },
  {
   "cell_type": "code",
   "execution_count": 0,
   "metadata": {
    "colab": {
     "base_uri": "https://localhost:8080/",
     "height": 88,
     "resources": {
      "http://localhost:8080/nbextensions/google.colab/files.js": {
       "data": "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",
       "headers": [
        [
         "content-type",
         "application/javascript"
        ]
       ],
       "ok": true,
       "status": 200,
       "status_text": ""
      }
     }
    },
    "colab_type": "code",
    "id": "Vs0qelsn-ian",
    "outputId": "48545277-8b02-4def-c121-62fdb9de80ec"
   },
   "outputs": [
    {
     "data": {
      "text/html": [
       "\n",
       "     <input type=\"file\" id=\"files-97c1b8b6-7271-44a0-ac0a-5d65be6dd602\" name=\"files[]\" multiple disabled />\n",
       "     <output id=\"result-97c1b8b6-7271-44a0-ac0a-5d65be6dd602\">\n",
       "      Upload widget is only available when the cell has been executed in the\n",
       "      current browser session. Please rerun this cell to enable.\n",
       "      </output>\n",
       "      <script src=\"/nbextensions/google.colab/files.js\"></script> "
      ],
      "text/plain": [
       "<IPython.core.display.HTML object>"
      ]
     },
     "metadata": {
      "tags": []
     },
     "output_type": "display_data"
    },
    {
     "name": "stdout",
     "output_type": "stream",
     "text": [
      "Saving heigh_weight.csv to heigh_weight.csv\n",
      "User uploaded file \"heigh_weight.csv\" with length 209 bytes\n"
     ]
    }
   ],
   "source": [
    "# from google.colab import files\n",
    "\n",
    "# uploaded = files.upload()\n",
    "\n",
    "# for fn in uploaded.keys():\n",
    "#   print('User uploaded file \"{name}\" with length {length} bytes'.format(\n",
    "#       name=fn, length=len(uploaded[fn])))\n",
    "\n",
    "# input_file = 'heigh_weight.csv'"
   ]
  },
  {
   "cell_type": "code",
   "execution_count": 0,
   "metadata": {
    "colab": {},
    "colab_type": "code",
    "id": "nyN2a7zn9wrc"
   },
   "outputs": [],
   "source": [
    "import pandas as pd\n",
    "import numpy as np\n",
    "import matplotlib.pyplot as plt"
   ]
  },
  {
   "cell_type": "markdown",
   "metadata": {
    "colab_type": "text",
    "id": "JTSuSjI59wri"
   },
   "source": [
    "###  STEP1 : 데이터 읽어 그래프 표시해 보기"
   ]
  },
  {
   "cell_type": "markdown",
   "metadata": {
    "colab_type": "text",
    "id": "mGjmk7Os9wro"
   },
   "source": [
    "#### numpy로 데이터 읽어 그래프 그리기\n",
    "![123123123.PNG](attachment:123123123.PNG)"
   ]
  },
  {
   "cell_type": "code",
   "execution_count": 0,
   "metadata": {
    "colab": {
     "base_uri": "https://localhost:8080/",
     "height": 425
    },
    "colab_type": "code",
    "id": "M8wep_OD9wrp",
    "outputId": "627f3d7a-879e-4b3b-d610-b7bcae3fcc31"
   },
   "outputs": [
    {
     "data": {
      "text/plain": [
       "array([[170.,  70.],\n",
       "       [168.,  66.],\n",
       "       [177.,  73.],\n",
       "       [181.,  77.],\n",
       "       [172.,  74.],\n",
       "       [171.,  73.],\n",
       "       [169.,  69.],\n",
       "       [175.,  79.],\n",
       "       [174.,  77.],\n",
       "       [178.,  80.],\n",
       "       [170.,  74.],\n",
       "       [167.,  68.],\n",
       "       [177.,  71.],\n",
       "       [182.,  76.],\n",
       "       [173.,  78.],\n",
       "       [171.,  72.],\n",
       "       [170.,  68.],\n",
       "       [179.,  79.],\n",
       "       [175.,  77.],\n",
       "       [177.,  81.],\n",
       "       [186.,  84.],\n",
       "       [166.,  73.],\n",
       "       [183.,  78.],\n",
       "       [168.,  69.]])"
      ]
     },
     "execution_count": 6,
     "metadata": {
      "tags": []
     },
     "output_type": "execute_result"
    }
   ],
   "source": [
    "# 트레이닝 데이터 가져오기\n",
    "train = np.loadtxt(input_file, delimiter=',', skiprows=1)\n",
    "train"
   ]
  },
  {
   "cell_type": "code",
   "execution_count": 0,
   "metadata": {
    "colab": {
     "base_uri": "https://localhost:8080/",
     "height": 102
    },
    "colab_type": "code",
    "id": "fji6u_Dx9wrt",
    "outputId": "cb6a4b86-b83a-4cb5-c2dc-5e4d0454d3ed"
   },
   "outputs": [
    {
     "data": {
      "text/plain": [
       "(array([170., 168., 177., 181., 172., 171., 169., 175., 174., 178., 170.,\n",
       "        167., 177., 182., 173., 171., 170., 179., 175., 177., 186., 166.,\n",
       "        183., 168.]),\n",
       " array([70., 66., 73., 77., 74., 73., 69., 79., 77., 80., 74., 68., 71.,\n",
       "        76., 78., 72., 68., 79., 77., 81., 84., 73., 78., 69.]))"
      ]
     },
     "execution_count": 7,
     "metadata": {
      "tags": []
     },
     "output_type": "execute_result"
    }
   ],
   "source": [
    "train_x = train[:, 0]\n",
    "train_y = train[:, 1]\n",
    "train_x, train_y"
   ]
  },
  {
   "cell_type": "code",
   "execution_count": 0,
   "metadata": {
    "colab": {
     "base_uri": "https://localhost:8080/",
     "height": 34
    },
    "colab_type": "code",
    "id": "_B9sdfvm9wry",
    "outputId": "2a0e8f51-61a1-4a9d-af87-8b4bfb1cf12e"
   },
   "outputs": [
    {
     "data": {
      "text/plain": [
       "24"
      ]
     },
     "execution_count": 8,
     "metadata": {
      "tags": []
     },
     "output_type": "execute_result"
    }
   ],
   "source": [
    "num_of_amples = train_x.shape[0]\n",
    "num_of_amples "
   ]
  },
  {
   "cell_type": "code",
   "execution_count": 0,
   "metadata": {
    "colab": {
     "base_uri": "https://localhost:8080/",
     "height": 265
    },
    "colab_type": "code",
    "id": "UZwi5-TR9wr4",
    "outputId": "5817ac86-a7ef-4d3a-dffe-7617f2715937"
   },
   "outputs": [
    {
     "data": {
      "image/png": "[encoded data removed]",
      "text/plain": [
       "<Figure size 432x288 with 1 Axes>"
      ]
     },
     "metadata": {
      "tags": []
     },
     "output_type": "display_data"
    }
   ],
   "source": [
    "# dot 그래프를 그린다.\n",
    "plt.plot(train_x, train_y, 'o')\n",
    "plt.show()"
   ]
  },
  {
   "cell_type": "markdown",
   "metadata": {
    "colab_type": "text",
    "id": "sGt1WEhR9wr6"
   },
   "source": [
    "### STEP2 : 구현 함수 준비 단계\n",
    "#### STEP2-1 : hypothesis 함수 구현하기 (y=wx+b)"
   ]
  },
  {
   "cell_type": "code",
   "execution_count": 0,
   "metadata": {
    "colab": {
     "base_uri": "https://localhost:8080/",
     "height": 34
    },
    "colab_type": "code",
    "id": "Mhak2fiX9wr8",
    "outputId": "38767cc2-74d4-4341-f0e6-cd1be9b18617"
   },
   "outputs": [
    {
     "data": {
      "text/plain": [
       "(0.9611544773479223, 0.08945044678989622)"
      ]
     },
     "execution_count": 10,
     "metadata": {
      "tags": []
     },
     "output_type": "execute_result"
    }
   ],
   "source": [
    "# weight값 초기화 (임의의 쓰레기 값)\n",
    "weight0 = np.random.rand()\n",
    "weight1 = np.random.rand()\n",
    "(weight0, weight1)"
   ]
  },
  {
   "cell_type": "code",
   "execution_count": 0,
   "metadata": {
    "colab": {},
    "colab_type": "code",
    "id": "ScjP4EEo9wr_"
   },
   "outputs": [],
   "source": [
    "#hypothesis 함수\n",
    "def f(x):\n",
    "    return weight0 + weight1*x"
   ]
  },
  {
   "cell_type": "markdown",
   "metadata": {
    "colab_type": "text",
    "id": "VLdvhtaQ9wsE"
   },
   "source": [
    "#### STEP2-2 : cost func 구현(비용,손실함수)\n",
    "\n",
    "최소자승법(Least Square Method)을 잘 이용하려면 최소자승법의 한계도 잘 알고 있어야 할 것이다. 최소자승법은 데이터 중에 보통 outlier(정상적인 데이터 분포에서 동떨어진 데이터)라고 불리는 이상한 놈이 하나라도 끼어 있으면 적용하기 힘든 방법이다."
   ]
  },
  {
   "cell_type": "code",
   "execution_count": 0,
   "metadata": {
    "colab": {},
    "colab_type": "code",
    "id": "VHLTFLU29wsG"
   },
   "outputs": [],
   "source": [
    "# Least square(최소자승법)\n",
    "#def E(x, y):\n",
    "#    return 0.5 * np.sum((y - f(x)) ** 2)\n",
    "\n",
    "# MSE (평균제곱오차)\n",
    "def E(x, y):\n",
    "    return 1/num_of_amples * np.sum((y-f(x))**2)\n",
    "\n",
    "# CEE(교차엔트로피)    \n",
    "#def E(x, y):\n",
    "#    delta = 1e-10\n",
    "#    return -np.sum(f(x)*np.log(y+delta))\n",
    " "
   ]
  },
  {
   "cell_type": "markdown",
   "metadata": {
    "colab_type": "text",
    "id": "Wpknj0hD9wsM"
   },
   "source": [
    "#### STEP2-3 : z-score 변환(정규화 = 표준화) 구현\n",
    "전처리는 절대적인것은 아니지만 이것을 하면 매개변수가 빨리 수렴하게 됨.\n",
    "\n",
    "평균을 0으로, 분산을 1로 변환하는 것"
   ]
  },
  {
   "cell_type": "code",
   "execution_count": 0,
   "metadata": {
    "colab": {
     "base_uri": "https://localhost:8080/",
     "height": 119
    },
    "colab_type": "code",
    "id": "YTrnUrmZ9wsN",
    "outputId": "bbe8faf4-271c-449a-a2b2-1586845d3115"
   },
   "outputs": [
    {
     "name": "stdout",
     "output_type": "stream",
     "text": [
      "변환 전:  [170. 168. 177. 181. 172. 171. 169. 175. 174. 178. 170. 167. 177. 182.\n",
      " 173. 171. 170. 179. 175. 177. 186. 166. 183. 168.]\n",
      "변환 후:  [-0.77008414 -1.14345827  0.53672531  1.28347357 -0.39671001 -0.58339708\n",
      " -0.95677121  0.16335118 -0.02333588  0.72341238 -0.77008414 -1.33014534\n",
      "  0.53672531  1.47016064 -0.21002295 -0.58339708 -0.77008414  0.91009944\n",
      "  0.16335118  0.53672531  2.2169089  -1.5168324   1.6568477  -1.14345827]\n"
     ]
    }
   ],
   "source": [
    "mu = train_x.mean() # 평균\n",
    "sigma = train_x.std() # 표준편차(제곱근으로 줄인)\n",
    "\n",
    "def z_score(x):\n",
    "    return (x - mu) / sigma\n",
    "\n",
    "train_z = z_score(train_x)\n",
    "print('변환 전: ', train_x)\n",
    "print('변환 후: ', train_z)"
   ]
  },
  {
   "cell_type": "code",
   "execution_count": 0,
   "metadata": {
    "colab": {
     "base_uri": "https://localhost:8080/",
     "height": 265
    },
    "colab_type": "code",
    "id": "pI4faxA89wsS",
    "outputId": "f56019d2-56b6-493a-d863-0a46252fcbe9"
   },
   "outputs": [
    {
     "data": {
      "image/png": "[encoded data removed]",
      "text/plain": [
       "<Figure size 432x288 with 1 Axes>"
      ]
     },
     "metadata": {
      "tags": []
     },
     "output_type": "display_data"
    }
   ],
   "source": [
    "plt.plot(train_z, train_y, 'o')\n",
    "plt.show()"
   ]
  },
  {
   "cell_type": "markdown",
   "metadata": {
    "colab_type": "text",
    "id": "GKYyFMFj9wsZ"
   },
   "source": [
    "#### STEP2-4 : 학습하지 않은 weight를 이용한 추정 선 그래프"
   ]
  },
  {
   "cell_type": "code",
   "execution_count": 0,
   "metadata": {
    "colab": {
     "base_uri": "https://localhost:8080/",
     "height": 265
    },
    "colab_type": "code",
    "id": "RMNema5n9wsa",
    "outputId": "7c40f21e-dea7-415b-9a8b-1be1daddefdd"
   },
   "outputs": [
    {
     "data": {
      "image/png": "[encoded data removed]",
      "text/plain": [
       "<Figure size 432x288 with 1 Axes>"
      ]
     },
     "metadata": {
      "tags": []
     },
     "output_type": "display_data"
    }
   ],
   "source": [
    "x = np.linspace(-3, 3, 100)    # 균일 x 생성\n",
    "\n",
    "plt.plot(train_z, train_y, 'o')\n",
    "plt.plot(x, f(x))\n",
    "plt.show()"
   ]
  },
  {
   "cell_type": "markdown",
   "metadata": {
    "colab_type": "text",
    "id": "ej-0SYmu9wsd"
   },
   "source": [
    "#### STEP2-5 :  optimizer 구현 (Gradient Descent:경사하강법)"
   ]
  },
  {
   "cell_type": "code",
   "execution_count": 0,
   "metadata": {
    "colab": {
     "base_uri": "https://localhost:8080/",
     "height": 1000
    },
    "colab_type": "code",
    "id": "vLET8rTG9wse",
    "outputId": "aa652bbe-0113-4365-c316-bd393c112c71"
   },
   "outputs": [
    {
     "name": "stdout",
     "output_type": "stream",
     "text": [
      "1: w1 = 0.124, w0 = 1.696, error = 5308.800, diff = 107.612\n",
      "2: w1 = 0.158, w0 = 2.423, error = 5203.329, diff = 105.471\n",
      "3: w1 = 0.192, w0 = 3.143, error = 5099.957, diff = 103.372\n",
      "4: w1 = 0.226, w0 = 3.856, error = 4998.642, diff = 101.315\n",
      "5: w1 = 0.259, w0 = 4.561, error = 4899.344, diff = 99.299\n",
      "6: w1 = 0.292, w0 = 5.260, error = 4802.021, diff = 97.323\n",
      "7: w1 = 0.324, w0 = 5.951, error = 4706.635, diff = 95.386\n",
      "8: w1 = 0.356, w0 = 6.636, error = 4613.147, diff = 93.488\n",
      "9: w1 = 0.388, w0 = 7.314, error = 4521.520, diff = 91.627\n",
      "10: w1 = 0.420, w0 = 7.985, error = 4431.716, diff = 89.804\n",
      "11: w1 = 0.451, w0 = 8.649, error = 4343.699, diff = 88.017\n",
      "12: w1 = 0.482, w0 = 9.307, error = 4257.434, diff = 86.265\n",
      "13: w1 = 0.513, w0 = 9.958, error = 4172.885, diff = 84.549\n",
      "14: w1 = 0.543, w0 = 10.602, error = 4090.019, diff = 82.866\n",
      "15: w1 = 0.573, w0 = 11.241, error = 4008.802, diff = 81.217\n",
      "16: w1 = 0.603, w0 = 11.872, error = 3929.201, diff = 79.601\n",
      "17: w1 = 0.632, w0 = 12.498, error = 3851.184, diff = 78.017\n",
      "18: w1 = 0.661, w0 = 13.117, error = 3774.720, diff = 76.464\n",
      "19: w1 = 0.690, w0 = 13.730, error = 3699.778, diff = 74.943\n",
      "20: w1 = 0.719, w0 = 14.337, error = 3626.326, diff = 73.451\n",
      "21: w1 = 0.747, w0 = 14.938, error = 3554.337, diff = 71.990\n",
      "22: w1 = 0.775, w0 = 15.532, error = 3483.780, diff = 70.557\n",
      "23: w1 = 0.803, w0 = 16.121, error = 3414.627, diff = 69.153\n",
      "24: w1 = 0.830, w0 = 16.704, error = 3346.850, diff = 67.777\n",
      "25: w1 = 0.857, w0 = 17.281, error = 3280.422, diff = 66.428\n",
      "26: w1 = 0.884, w0 = 17.853, error = 3215.316, diff = 65.106\n",
      "27: w1 = 0.911, w0 = 18.418, error = 3151.505, diff = 63.810\n",
      "28: w1 = 0.937, w0 = 18.978, error = 3088.965, diff = 62.541\n",
      "29: w1 = 0.963, w0 = 19.533, error = 3027.669, diff = 61.296\n",
      "30: w1 = 0.989, w0 = 20.082, error = 2967.592, diff = 60.076\n",
      "31: w1 = 1.015, w0 = 20.625, error = 2908.712, diff = 58.881\n",
      "32: w1 = 1.040, w0 = 21.163, error = 2851.002, diff = 57.709\n",
      "33: w1 = 1.065, w0 = 21.695, error = 2794.442, diff = 56.561\n",
      "34: w1 = 1.090, w0 = 22.223, error = 2739.007, diff = 55.435\n",
      "35: w1 = 1.114, w0 = 22.745, error = 2684.675, diff = 54.332\n",
      "36: w1 = 1.139, w0 = 23.261, error = 2631.424, diff = 53.251\n",
      "37: w1 = 1.163, w0 = 23.773, error = 2579.233, diff = 52.191\n",
      "38: w1 = 1.186, w0 = 24.279, error = 2528.081, diff = 51.152\n",
      "39: w1 = 1.210, w0 = 24.781, error = 2477.946, diff = 50.135\n",
      "40: w1 = 1.233, w0 = 25.277, error = 2428.809, diff = 49.137\n",
      "41: w1 = 1.256, w0 = 25.768, error = 2380.650, diff = 48.159\n",
      "42: w1 = 1.279, w0 = 26.255, error = 2333.450, diff = 47.201\n",
      "43: w1 = 1.302, w0 = 26.737, error = 2287.188, diff = 46.261\n",
      "44: w1 = 1.324, w0 = 27.213, error = 2241.847, diff = 45.341\n",
      "45: w1 = 1.347, w0 = 27.685, error = 2197.409, diff = 44.438\n",
      "46: w1 = 1.369, w0 = 28.153, error = 2153.855, diff = 43.554\n",
      "47: w1 = 1.390, w0 = 28.615, error = 2111.167, diff = 42.687\n",
      "48: w1 = 1.412, w0 = 29.073, error = 2069.330, diff = 41.838\n",
      "49: w1 = 1.433, w0 = 29.527, error = 2028.324, diff = 41.005\n",
      "50: w1 = 1.454, w0 = 29.976, error = 1988.135, diff = 40.189\n",
      "51: w1 = 1.475, w0 = 30.420, error = 1948.745, diff = 39.390\n",
      "52: w1 = 1.496, w0 = 30.860, error = 1910.139, diff = 38.606\n",
      "53: w1 = 1.517, w0 = 31.296, error = 1872.302, diff = 37.837\n",
      "54: w1 = 1.537, w0 = 31.727, error = 1835.217, diff = 37.085\n",
      "55: w1 = 1.557, w0 = 32.154, error = 1798.871, diff = 36.347\n",
      "56: w1 = 1.577, w0 = 32.576, error = 1763.248, diff = 35.623\n",
      "57: w1 = 1.596, w0 = 32.995, error = 1728.333, diff = 34.914\n",
      "58: w1 = 1.616, w0 = 33.409, error = 1694.114, diff = 34.220\n",
      "59: w1 = 1.635, w0 = 33.819, error = 1660.575, diff = 33.539\n",
      "60: w1 = 1.654, w0 = 34.225, error = 1627.704, diff = 32.871\n",
      "61: w1 = 1.673, w0 = 34.627, error = 1595.487, diff = 32.217\n",
      "62: w1 = 1.692, w0 = 35.025, error = 1563.911, diff = 31.576\n",
      "63: w1 = 1.710, w0 = 35.419, error = 1532.964, diff = 30.948\n",
      "64: w1 = 1.729, w0 = 35.809, error = 1502.632, diff = 30.332\n",
      "65: w1 = 1.747, w0 = 36.195, error = 1472.904, diff = 29.728\n",
      "66: w1 = 1.765, w0 = 36.577, error = 1443.767, diff = 29.136\n",
      "67: w1 = 1.783, w0 = 36.955, error = 1415.211, diff = 28.557\n",
      "68: w1 = 1.800, w0 = 37.330, error = 1387.222, diff = 27.988\n",
      "69: w1 = 1.818, w0 = 37.701, error = 1359.791, diff = 27.431\n",
      "70: w1 = 1.835, w0 = 38.068, error = 1332.905, diff = 26.886\n",
      "71: w1 = 1.852, w0 = 38.432, error = 1306.555, diff = 26.351\n",
      "72: w1 = 1.869, w0 = 38.791, error = 1280.729, diff = 25.826\n",
      "73: w1 = 1.886, w0 = 39.148, error = 1255.416, diff = 25.312\n",
      "74: w1 = 1.902, w0 = 39.500, error = 1230.608, diff = 24.808\n",
      "75: w1 = 1.919, w0 = 39.849, error = 1206.293, diff = 24.315\n",
      "76: w1 = 1.935, w0 = 40.195, error = 1182.462, diff = 23.831\n",
      "77: w1 = 1.951, w0 = 40.537, error = 1159.106, diff = 23.357\n",
      "78: w1 = 1.967, w0 = 40.876, error = 1136.214, diff = 22.892\n",
      "79: w1 = 1.983, w0 = 41.212, error = 1113.777, diff = 22.436\n",
      "80: w1 = 1.999, w0 = 41.544, error = 1091.787, diff = 21.990\n",
      "81: w1 = 2.014, w0 = 41.872, error = 1070.235, diff = 21.552\n",
      "82: w1 = 2.029, w0 = 42.198, error = 1049.112, diff = 21.123\n",
      "83: w1 = 2.045, w0 = 42.520, error = 1028.409, diff = 20.703\n",
      "84: w1 = 2.060, w0 = 42.839, error = 1008.118, diff = 20.291\n",
      "85: w1 = 2.074, w0 = 43.155, error = 988.230, diff = 19.887\n",
      "86: w1 = 2.089, w0 = 43.467, error = 968.739, diff = 19.491\n",
      "87: w1 = 2.104, w0 = 43.777, error = 949.635, diff = 19.104\n",
      "88: w1 = 2.118, w0 = 44.083, error = 930.912, diff = 18.723\n",
      "89: w1 = 2.132, w0 = 44.387, error = 912.561, diff = 18.351\n",
      "90: w1 = 2.146, w0 = 44.687, error = 894.575, diff = 17.986\n",
      "91: w1 = 2.160, w0 = 44.984, error = 876.948, diff = 17.628\n",
      "92: w1 = 2.174, w0 = 45.278, error = 859.671, diff = 17.277\n",
      "93: w1 = 2.188, w0 = 45.570, error = 842.738, diff = 16.933\n",
      "94: w1 = 2.202, w0 = 45.858, error = 826.141, diff = 16.596\n",
      "95: w1 = 2.215, w0 = 46.144, error = 809.875, diff = 16.266\n",
      "96: w1 = 2.228, w0 = 46.427, error = 793.933, diff = 15.942\n",
      "97: w1 = 2.242, w0 = 46.707, error = 778.308, diff = 15.625\n",
      "98: w1 = 2.255, w0 = 46.984, error = 762.994, diff = 15.314\n",
      "99: w1 = 2.267, w0 = 47.258, error = 747.985, diff = 15.009\n",
      "100: w1 = 2.280, w0 = 47.530, error = 733.274, diff = 14.711\n",
      "101: w1 = 2.293, w0 = 47.798, error = 718.856, diff = 14.418\n",
      "102: w1 = 2.305, w0 = 48.065, error = 704.725, diff = 14.131\n",
      "103: w1 = 2.318, w0 = 48.328, error = 690.876, diff = 13.850\n",
      "104: w1 = 2.330, w0 = 48.589, error = 677.302, diff = 13.574\n",
      "105: w1 = 2.342, w0 = 48.847, error = 663.998, diff = 13.304\n",
      "106: w1 = 2.354, w0 = 49.103, error = 650.958, diff = 13.039\n",
      "107: w1 = 2.366, w0 = 49.356, error = 638.179, diff = 12.780\n",
      "108: w1 = 2.378, w0 = 49.607, error = 625.653, diff = 12.525\n",
      "109: w1 = 2.390, w0 = 49.855, error = 613.377, diff = 12.276\n",
      "110: w1 = 2.401, w0 = 50.100, error = 601.345, diff = 12.032\n",
      "111: w1 = 2.413, w0 = 50.344, error = 589.553, diff = 11.792\n",
      "112: w1 = 2.424, w0 = 50.584, error = 577.995, diff = 11.558\n",
      "113: w1 = 2.435, w0 = 50.823, error = 566.667, diff = 11.328\n",
      "114: w1 = 2.446, w0 = 51.059, error = 555.565, diff = 11.102\n",
      "115: w1 = 2.457, w0 = 51.292, error = 544.683, diff = 10.881\n",
      "116: w1 = 2.468, w0 = 51.523, error = 534.018, diff = 10.665\n",
      "117: w1 = 2.479, w0 = 51.752, error = 523.566, diff = 10.453\n",
      "118: w1 = 2.490, w0 = 51.979, error = 513.321, diff = 10.245\n",
      "119: w1 = 2.500, w0 = 52.203, error = 503.280, diff = 10.041\n",
      "120: w1 = 2.511, w0 = 52.426, error = 493.439, diff = 9.841\n",
      "121: w1 = 2.521, w0 = 52.645, error = 483.794, diff = 9.645\n",
      "122: w1 = 2.531, w0 = 52.863, error = 474.341, diff = 9.453\n",
      "123: w1 = 2.541, w0 = 53.079, error = 465.076, diff = 9.265\n",
      "124: w1 = 2.551, w0 = 53.292, error = 455.995, diff = 9.081\n",
      "125: w1 = 2.561, w0 = 53.503, error = 447.095, diff = 8.900\n",
      "126: w1 = 2.571, w0 = 53.712, error = 438.372, diff = 8.723\n",
      "127: w1 = 2.581, w0 = 53.919, error = 429.823, diff = 8.549\n",
      "128: w1 = 2.590, w0 = 54.124, error = 421.444, diff = 8.379\n",
      "129: w1 = 2.600, w0 = 54.327, error = 413.231, diff = 8.212\n",
      "130: w1 = 2.609, w0 = 54.528, error = 405.182, diff = 8.049\n",
      "131: w1 = 2.619, w0 = 54.727, error = 397.293, diff = 7.889\n",
      "132: w1 = 2.628, w0 = 54.924, error = 389.561, diff = 7.732\n",
      "133: w1 = 2.637, w0 = 55.119, error = 381.984, diff = 7.578\n",
      "134: w1 = 2.646, w0 = 55.312, error = 374.556, diff = 7.427\n",
      "135: w1 = 2.655, w0 = 55.503, error = 367.277, diff = 7.279\n",
      "136: w1 = 2.664, w0 = 55.692, error = 360.142, diff = 7.135\n",
      "137: w1 = 2.673, w0 = 55.879, error = 353.150, diff = 6.993\n",
      "138: w1 = 2.682, w0 = 56.065, error = 346.297, diff = 6.853\n",
      "139: w1 = 2.690, w0 = 56.248, error = 339.580, diff = 6.717\n",
      "140: w1 = 2.699, w0 = 56.430, error = 332.996, diff = 6.583\n",
      "141: w1 = 2.707, w0 = 56.610, error = 326.544, diff = 6.452\n",
      "142: w1 = 2.716, w0 = 56.788, error = 320.220, diff = 6.324\n",
      "143: w1 = 2.724, w0 = 56.964, error = 314.022, diff = 6.198\n",
      "144: w1 = 2.732, w0 = 57.139, error = 307.947, diff = 6.075\n",
      "145: w1 = 2.740, w0 = 57.311, error = 301.993, diff = 5.954\n",
      "146: w1 = 2.748, w0 = 57.483, error = 296.158, diff = 5.835\n",
      "147: w1 = 2.756, w0 = 57.652, error = 290.439, diff = 5.719\n",
      "148: w1 = 2.764, w0 = 57.820, error = 284.833, diff = 5.605\n",
      "149: w1 = 2.772, w0 = 57.986, error = 279.339, diff = 5.494\n",
      "150: w1 = 2.780, w0 = 58.150, error = 273.955, diff = 5.385\n",
      "151: w1 = 2.788, w0 = 58.312, error = 268.677, diff = 5.277\n",
      "152: w1 = 2.795, w0 = 58.474, error = 263.505, diff = 5.172\n",
      "153: w1 = 2.803, w0 = 58.633, error = 258.436, diff = 5.069\n",
      "154: w1 = 2.810, w0 = 58.791, error = 253.467, diff = 4.969\n",
      "155: w1 = 2.817, w0 = 58.947, error = 248.597, diff = 4.870\n",
      "156: w1 = 2.825, w0 = 59.102, error = 243.824, diff = 4.773\n",
      "157: w1 = 2.832, w0 = 59.255, error = 239.147, diff = 4.678\n",
      "158: w1 = 2.839, w0 = 59.407, error = 234.562, diff = 4.585\n",
      "159: w1 = 2.846, w0 = 59.557, error = 230.068, diff = 4.493\n",
      "160: w1 = 2.853, w0 = 59.705, error = 225.664, diff = 4.404\n",
      "161: w1 = 2.860, w0 = 59.852, error = 221.348, diff = 4.316\n",
      "162: w1 = 2.867, w0 = 59.998, error = 217.117, diff = 4.231\n",
      "163: w1 = 2.874, w0 = 60.142, error = 212.971, diff = 4.146\n",
      "164: w1 = 2.880, w0 = 60.285, error = 208.907, diff = 4.064\n",
      "165: w1 = 2.887, w0 = 60.426, error = 204.924, diff = 3.983\n",
      "166: w1 = 2.894, w0 = 60.566, error = 201.021, diff = 3.904\n",
      "167: w1 = 2.900, w0 = 60.705, error = 197.195, diff = 3.826\n",
      "168: w1 = 2.906, w0 = 60.842, error = 193.445, diff = 3.750\n",
      "169: w1 = 2.913, w0 = 60.978, error = 189.769, diff = 3.675\n",
      "170: w1 = 2.919, w0 = 61.112, error = 186.167, diff = 3.602\n",
      "171: w1 = 2.925, w0 = 61.245, error = 182.637, diff = 3.530\n",
      "172: w1 = 2.932, w0 = 61.377, error = 179.177, diff = 3.460\n",
      "173: w1 = 2.938, w0 = 61.507, error = 175.785, diff = 3.391\n",
      "174: w1 = 2.944, w0 = 61.636, error = 172.462, diff = 3.324\n",
      "175: w1 = 2.950, w0 = 61.764, error = 169.204, diff = 3.258\n",
      "176: w1 = 2.956, w0 = 61.890, error = 166.011, diff = 3.193\n",
      "177: w1 = 2.962, w0 = 62.016, error = 162.882, diff = 3.129\n",
      "178: w1 = 2.968, w0 = 62.140, error = 159.815, diff = 3.067\n",
      "179: w1 = 2.973, w0 = 62.263, error = 156.809, diff = 3.006\n",
      "180: w1 = 2.979, w0 = 62.384, error = 153.862, diff = 2.946\n",
      "181: w1 = 2.985, w0 = 62.504, error = 150.975, diff = 2.888\n",
      "182: w1 = 2.990, w0 = 62.624, error = 148.145, diff = 2.830\n",
      "183: w1 = 2.996, w0 = 62.741, error = 145.371, diff = 2.774\n",
      "184: w1 = 3.001, w0 = 62.858, error = 142.652, diff = 2.719\n",
      "185: w1 = 3.007, w0 = 62.974, error = 139.988, diff = 2.664\n",
      "186: w1 = 3.012, w0 = 63.088, error = 137.376, diff = 2.611\n",
      "187: w1 = 3.018, w0 = 63.201, error = 134.817, diff = 2.559\n",
      "188: w1 = 3.023, w0 = 63.314, error = 132.308, diff = 2.509\n",
      "189: w1 = 3.028, w0 = 63.425, error = 129.850, diff = 2.459\n",
      "190: w1 = 3.033, w0 = 63.535, error = 127.440, diff = 2.410\n",
      "191: w1 = 3.038, w0 = 63.643, error = 125.078, diff = 2.362\n",
      "192: w1 = 3.043, w0 = 63.751, error = 122.764, diff = 2.315\n",
      "193: w1 = 3.048, w0 = 63.858, error = 120.495, diff = 2.269\n",
      "194: w1 = 3.053, w0 = 63.963, error = 118.271, diff = 2.224\n",
      "195: w1 = 3.058, w0 = 64.068, error = 116.092, diff = 2.179\n",
      "196: w1 = 3.063, w0 = 64.171, error = 113.956, diff = 2.136\n",
      "197: w1 = 3.068, w0 = 64.274, error = 111.863, diff = 2.093\n",
      "198: w1 = 3.073, w0 = 64.375, error = 109.811, diff = 2.052\n",
      "199: w1 = 3.077, w0 = 64.476, error = 107.800, diff = 2.011\n",
      "200: w1 = 3.082, w0 = 64.575, error = 105.829, diff = 1.971\n",
      "201: w1 = 3.087, w0 = 64.674, error = 103.897, diff = 1.932\n",
      "202: w1 = 3.091, w0 = 64.771, error = 102.004, diff = 1.893\n",
      "203: w1 = 3.096, w0 = 64.867, error = 100.148, diff = 1.856\n",
      "204: w1 = 3.100, w0 = 64.963, error = 98.330, diff = 1.819\n",
      "205: w1 = 3.105, w0 = 65.057, error = 96.547, diff = 1.782\n",
      "206: w1 = 3.109, w0 = 65.151, error = 94.800, diff = 1.747\n",
      "207: w1 = 3.114, w0 = 65.244, error = 93.088, diff = 1.712\n",
      "208: w1 = 3.118, w0 = 65.335, error = 91.410, diff = 1.678\n",
      "209: w1 = 3.122, w0 = 65.426, error = 89.765, diff = 1.645\n",
      "210: w1 = 3.126, w0 = 65.516, error = 88.153, diff = 1.612\n",
      "211: w1 = 3.131, w0 = 65.605, error = 86.573, diff = 1.580\n",
      "212: w1 = 3.135, w0 = 65.693, error = 85.025, diff = 1.549\n",
      "213: w1 = 3.139, w0 = 65.781, error = 83.507, diff = 1.518\n",
      "214: w1 = 3.143, w0 = 65.867, error = 82.019, diff = 1.487\n",
      "215: w1 = 3.147, w0 = 65.952, error = 80.562, diff = 1.458\n",
      "216: w1 = 3.151, w0 = 66.037, error = 79.133, diff = 1.429\n",
      "217: w1 = 3.155, w0 = 66.121, error = 77.732, diff = 1.400\n",
      "218: w1 = 3.159, w0 = 66.204, error = 76.360, diff = 1.373\n",
      "219: w1 = 3.163, w0 = 66.286, error = 75.014, diff = 1.345\n",
      "220: w1 = 3.166, w0 = 66.367, error = 73.696, diff = 1.318\n",
      "221: w1 = 3.170, w0 = 66.448, error = 72.404, diff = 1.292\n",
      "222: w1 = 3.174, w0 = 66.527, error = 71.137, diff = 1.267\n",
      "223: w1 = 3.178, w0 = 66.606, error = 69.896, diff = 1.241\n",
      "224: w1 = 3.181, w0 = 66.684, error = 68.679, diff = 1.217\n",
      "225: w1 = 3.185, w0 = 66.762, error = 67.487, diff = 1.192\n",
      "226: w1 = 3.189, w0 = 66.838, error = 66.318, diff = 1.169\n",
      "227: w1 = 3.192, w0 = 66.914, error = 65.173, diff = 1.145\n",
      "228: w1 = 3.196, w0 = 66.989, error = 64.050, diff = 1.123\n",
      "229: w1 = 3.199, w0 = 67.063, error = 62.950, diff = 1.100\n",
      "230: w1 = 3.203, w0 = 67.137, error = 61.871, diff = 1.078\n",
      "231: w1 = 3.206, w0 = 67.210, error = 60.814, diff = 1.057\n",
      "232: w1 = 3.209, w0 = 67.282, error = 59.778, diff = 1.036\n",
      "233: w1 = 3.213, w0 = 67.353, error = 58.763, diff = 1.015\n",
      "234: w1 = 3.216, w0 = 67.424, error = 57.768, diff = 0.995\n",
      "235: w1 = 3.219, w0 = 67.494, error = 56.793, diff = 0.975\n",
      "236: w1 = 3.223, w0 = 67.563, error = 55.837, diff = 0.956\n",
      "237: w1 = 3.226, w0 = 67.631, error = 54.900, diff = 0.937\n",
      "238: w1 = 3.229, w0 = 67.699, error = 53.982, diff = 0.918\n",
      "239: w1 = 3.232, w0 = 67.766, error = 53.082, diff = 0.900\n",
      "240: w1 = 3.235, w0 = 67.833, error = 52.200, diff = 0.882\n",
      "241: w1 = 3.238, w0 = 67.899, error = 51.335, diff = 0.864\n",
      "242: w1 = 3.242, w0 = 67.964, error = 50.488, diff = 0.847\n",
      "243: w1 = 3.245, w0 = 68.028, error = 49.658, diff = 0.830\n",
      "244: w1 = 3.248, w0 = 68.092, error = 48.844, diff = 0.814\n",
      "245: w1 = 3.251, w0 = 68.156, error = 48.046, diff = 0.798\n",
      "246: w1 = 3.254, w0 = 68.218, error = 47.264, diff = 0.782\n",
      "247: w1 = 3.256, w0 = 68.280, error = 46.498, diff = 0.766\n",
      "248: w1 = 3.259, w0 = 68.342, error = 45.747, diff = 0.751\n",
      "249: w1 = 3.262, w0 = 68.402, error = 45.011, diff = 0.736\n",
      "250: w1 = 3.265, w0 = 68.462, error = 44.289, diff = 0.721\n",
      "251: w1 = 3.268, w0 = 68.522, error = 43.582, diff = 0.707\n",
      "252: w1 = 3.271, w0 = 68.581, error = 42.889, diff = 0.693\n",
      "253: w1 = 3.273, w0 = 68.639, error = 42.210, diff = 0.679\n",
      "254: w1 = 3.276, w0 = 68.697, error = 41.545, diff = 0.666\n",
      "255: w1 = 3.279, w0 = 68.754, error = 40.892, diff = 0.652\n",
      "256: w1 = 3.281, w0 = 68.811, error = 40.253, diff = 0.639\n",
      "257: w1 = 3.284, w0 = 68.867, error = 39.626, diff = 0.627\n",
      "258: w1 = 3.287, w0 = 68.922, error = 39.012, diff = 0.614\n",
      "259: w1 = 3.289, w0 = 68.977, error = 38.410, diff = 0.602\n",
      "260: w1 = 3.292, w0 = 69.032, error = 37.820, diff = 0.590\n",
      "261: w1 = 3.294, w0 = 69.086, error = 37.241, diff = 0.578\n",
      "262: w1 = 3.297, w0 = 69.139, error = 36.674, diff = 0.567\n",
      "263: w1 = 3.299, w0 = 69.192, error = 36.119, diff = 0.556\n",
      "264: w1 = 3.302, w0 = 69.244, error = 35.574, diff = 0.544\n",
      "265: w1 = 3.304, w0 = 69.296, error = 35.041, diff = 0.534\n",
      "266: w1 = 3.307, w0 = 69.347, error = 34.518, diff = 0.523\n",
      "267: w1 = 3.309, w0 = 69.398, error = 34.005, diff = 0.513\n",
      "268: w1 = 3.311, w0 = 69.448, error = 33.503, diff = 0.502\n",
      "269: w1 = 3.314, w0 = 69.497, error = 33.010, diff = 0.492\n",
      "270: w1 = 3.316, w0 = 69.547, error = 32.528, diff = 0.483\n",
      "271: w1 = 3.318, w0 = 69.595, error = 32.055, diff = 0.473\n",
      "272: w1 = 3.321, w0 = 69.644, error = 31.591, diff = 0.464\n",
      "273: w1 = 3.323, w0 = 69.691, error = 31.137, diff = 0.454\n",
      "274: w1 = 3.325, w0 = 69.739, error = 30.691, diff = 0.445\n",
      "275: w1 = 3.327, w0 = 69.785, error = 30.255, diff = 0.436\n",
      "276: w1 = 3.329, w0 = 69.832, error = 29.827, diff = 0.428\n",
      "277: w1 = 3.332, w0 = 69.878, error = 29.408, diff = 0.419\n",
      "278: w1 = 3.334, w0 = 69.923, error = 28.997, diff = 0.411\n",
      "279: w1 = 3.336, w0 = 69.968, error = 28.594, diff = 0.403\n",
      "280: w1 = 3.338, w0 = 70.012, error = 28.200, diff = 0.395\n",
      "281: w1 = 3.340, w0 = 70.056, error = 27.813, diff = 0.387\n",
      "282: w1 = 3.342, w0 = 70.100, error = 27.434, diff = 0.379\n",
      "283: w1 = 3.344, w0 = 70.143, error = 27.062, diff = 0.372\n",
      "284: w1 = 3.346, w0 = 70.186, error = 26.698, diff = 0.364\n",
      "285: w1 = 3.348, w0 = 70.228, error = 26.341, diff = 0.357\n",
      "286: w1 = 3.350, w0 = 70.270, error = 25.991, diff = 0.350\n",
      "287: w1 = 3.352, w0 = 70.312, error = 25.648, diff = 0.343\n",
      "288: w1 = 3.354, w0 = 70.353, error = 25.312, diff = 0.336\n",
      "289: w1 = 3.356, w0 = 70.393, error = 24.982, diff = 0.329\n",
      "290: w1 = 3.358, w0 = 70.433, error = 24.659, diff = 0.323\n",
      "291: w1 = 3.360, w0 = 70.473, error = 24.343, diff = 0.316\n",
      "292: w1 = 3.361, w0 = 70.513, error = 24.033, diff = 0.310\n",
      "293: w1 = 3.363, w0 = 70.552, error = 23.729, diff = 0.304\n",
      "294: w1 = 3.365, w0 = 70.590, error = 23.431, diff = 0.298\n",
      "295: w1 = 3.367, w0 = 70.629, error = 23.139, diff = 0.292\n",
      "296: w1 = 3.369, w0 = 70.667, error = 22.853, diff = 0.286\n",
      "297: w1 = 3.370, w0 = 70.704, error = 22.572, diff = 0.280\n",
      "298: w1 = 3.372, w0 = 70.741, error = 22.298, diff = 0.275\n",
      "299: w1 = 3.374, w0 = 70.778, error = 22.028, diff = 0.269\n",
      "300: w1 = 3.376, w0 = 70.814, error = 21.764, diff = 0.264\n",
      "301: w1 = 3.377, w0 = 70.850, error = 21.505, diff = 0.259\n",
      "302: w1 = 3.379, w0 = 70.886, error = 21.252, diff = 0.254\n",
      "303: w1 = 3.381, w0 = 70.921, error = 21.003, diff = 0.249\n",
      "304: w1 = 3.382, w0 = 70.956, error = 20.759, diff = 0.244\n",
      "305: w1 = 3.384, w0 = 70.991, error = 20.520, diff = 0.239\n",
      "306: w1 = 3.386, w0 = 71.025, error = 20.286, diff = 0.234\n",
      "307: w1 = 3.387, w0 = 71.059, error = 20.057, diff = 0.229\n",
      "308: w1 = 3.389, w0 = 71.093, error = 19.832, diff = 0.225\n",
      "309: w1 = 3.390, w0 = 71.126, error = 19.612, diff = 0.220\n",
      "310: w1 = 3.392, w0 = 71.159, error = 19.396, diff = 0.216\n",
      "311: w1 = 3.393, w0 = 71.191, error = 19.184, diff = 0.212\n",
      "312: w1 = 3.395, w0 = 71.224, error = 18.977, diff = 0.207\n",
      "313: w1 = 3.396, w0 = 71.256, error = 18.773, diff = 0.203\n",
      "314: w1 = 3.398, w0 = 71.287, error = 18.574, diff = 0.199\n",
      "315: w1 = 3.399, w0 = 71.318, error = 18.379, diff = 0.195\n",
      "316: w1 = 3.401, w0 = 71.349, error = 18.187, diff = 0.191\n",
      "317: w1 = 3.402, w0 = 71.380, error = 18.000, diff = 0.188\n",
      "318: w1 = 3.404, w0 = 71.410, error = 17.816, diff = 0.184\n",
      "319: w1 = 3.405, w0 = 71.441, error = 17.636, diff = 0.180\n",
      "320: w1 = 3.407, w0 = 71.470, error = 17.459, diff = 0.177\n",
      "321: w1 = 3.408, w0 = 71.500, error = 17.286, diff = 0.173\n",
      "322: w1 = 3.409, w0 = 71.529, error = 17.116, diff = 0.170\n",
      "323: w1 = 3.411, w0 = 71.558, error = 16.950, diff = 0.166\n",
      "324: w1 = 3.412, w0 = 71.586, error = 16.787, diff = 0.163\n",
      "325: w1 = 3.413, w0 = 71.615, error = 16.627, diff = 0.160\n",
      "326: w1 = 3.415, w0 = 71.643, error = 16.470, diff = 0.157\n",
      "327: w1 = 3.416, w0 = 71.670, error = 16.317, diff = 0.153\n",
      "328: w1 = 3.417, w0 = 71.698, error = 16.167, diff = 0.150\n",
      "329: w1 = 3.418, w0 = 71.725, error = 16.019, diff = 0.147\n",
      "330: w1 = 3.420, w0 = 71.752, error = 15.875, diff = 0.144\n",
      "331: w1 = 3.421, w0 = 71.779, error = 15.733, diff = 0.142\n",
      "332: w1 = 3.422, w0 = 71.805, error = 15.594, diff = 0.139\n",
      "333: w1 = 3.423, w0 = 71.831, error = 15.458, diff = 0.136\n",
      "334: w1 = 3.425, w0 = 71.857, error = 15.325, diff = 0.133\n",
      "335: w1 = 3.426, w0 = 71.883, error = 15.194, diff = 0.131\n",
      "336: w1 = 3.427, w0 = 71.908, error = 15.066, diff = 0.128\n",
      "337: w1 = 3.428, w0 = 71.933, error = 14.941, diff = 0.126\n",
      "338: w1 = 3.429, w0 = 71.958, error = 14.818, diff = 0.123\n",
      "339: w1 = 3.431, w0 = 71.982, error = 14.697, diff = 0.121\n",
      "340: w1 = 3.432, w0 = 72.007, error = 14.579, diff = 0.118\n",
      "341: w1 = 3.433, w0 = 72.031, error = 14.463, diff = 0.116\n",
      "342: w1 = 3.434, w0 = 72.055, error = 14.349, diff = 0.114\n",
      "343: w1 = 3.435, w0 = 72.078, error = 14.238, diff = 0.111\n",
      "344: w1 = 3.436, w0 = 72.102, error = 14.129, diff = 0.109\n",
      "345: w1 = 3.437, w0 = 72.125, error = 14.022, diff = 0.107\n",
      "346: w1 = 3.438, w0 = 72.148, error = 13.918, diff = 0.105\n",
      "347: w1 = 3.439, w0 = 72.171, error = 13.815, diff = 0.103\n",
      "348: w1 = 3.440, w0 = 72.193, error = 13.714, diff = 0.101\n",
      "349: w1 = 3.442, w0 = 72.215, error = 13.616, diff = 0.099\n",
      "350: w1 = 3.443, w0 = 72.237, error = 13.519, diff = 0.097\n",
      "351: w1 = 3.444, w0 = 72.259, error = 13.424, diff = 0.095\n",
      "352: w1 = 3.445, w0 = 72.281, error = 13.331, diff = 0.093\n",
      "353: w1 = 3.446, w0 = 72.302, error = 13.240, diff = 0.091\n",
      "354: w1 = 3.447, w0 = 72.323, error = 13.151, diff = 0.089\n",
      "355: w1 = 3.448, w0 = 72.344, error = 13.064, diff = 0.087\n",
      "356: w1 = 3.449, w0 = 72.365, error = 12.978, diff = 0.086\n",
      "357: w1 = 3.450, w0 = 72.385, error = 12.894, diff = 0.084\n",
      "358: w1 = 3.451, w0 = 72.406, error = 12.812, diff = 0.082\n",
      "359: w1 = 3.451, w0 = 72.426, error = 12.731, diff = 0.081\n",
      "360: w1 = 3.452, w0 = 72.446, error = 12.652, diff = 0.079\n",
      "361: w1 = 3.453, w0 = 72.465, error = 12.575, diff = 0.077\n",
      "362: w1 = 3.454, w0 = 72.485, error = 12.499, diff = 0.076\n",
      "363: w1 = 3.455, w0 = 72.504, error = 12.424, diff = 0.074\n",
      "364: w1 = 3.456, w0 = 72.523, error = 12.351, diff = 0.073\n",
      "365: w1 = 3.457, w0 = 72.542, error = 12.280, diff = 0.071\n",
      "366: w1 = 3.458, w0 = 72.561, error = 12.210, diff = 0.070\n",
      "367: w1 = 3.459, w0 = 72.580, error = 12.141, diff = 0.069\n",
      "368: w1 = 3.460, w0 = 72.598, error = 12.074, diff = 0.067\n",
      "369: w1 = 3.460, w0 = 72.616, error = 12.008, diff = 0.066\n",
      "370: w1 = 3.461, w0 = 72.634, error = 11.943, diff = 0.065\n",
      "371: w1 = 3.462, w0 = 72.652, error = 11.880, diff = 0.063\n",
      "372: w1 = 3.463, w0 = 72.670, error = 11.818, diff = 0.062\n",
      "373: w1 = 3.464, w0 = 72.687, error = 11.757, diff = 0.061\n",
      "374: w1 = 3.465, w0 = 72.704, error = 11.697, diff = 0.060\n",
      "375: w1 = 3.465, w0 = 72.721, error = 11.639, diff = 0.058\n",
      "376: w1 = 3.466, w0 = 72.738, error = 11.581, diff = 0.057\n",
      "377: w1 = 3.467, w0 = 72.755, error = 11.525, diff = 0.056\n",
      "378: w1 = 3.468, w0 = 72.772, error = 11.470, diff = 0.055\n",
      "379: w1 = 3.469, w0 = 72.788, error = 11.416, diff = 0.054\n",
      "380: w1 = 3.469, w0 = 72.805, error = 11.363, diff = 0.053\n",
      "381: w1 = 3.470, w0 = 72.821, error = 11.311, diff = 0.052\n",
      "382: w1 = 3.471, w0 = 72.837, error = 11.261, diff = 0.051\n",
      "383: w1 = 3.472, w0 = 72.852, error = 11.211, diff = 0.050\n",
      "384: w1 = 3.472, w0 = 72.868, error = 11.162, diff = 0.049\n",
      "385: w1 = 3.473, w0 = 72.884, error = 11.114, diff = 0.048\n",
      "386: w1 = 3.474, w0 = 72.899, error = 11.067, diff = 0.047\n",
      "387: w1 = 3.474, w0 = 72.914, error = 11.021, diff = 0.046\n",
      "388: w1 = 3.475, w0 = 72.929, error = 10.976, diff = 0.045\n",
      "389: w1 = 3.476, w0 = 72.944, error = 10.932, diff = 0.044\n",
      "390: w1 = 3.477, w0 = 72.959, error = 10.889, diff = 0.043\n",
      "391: w1 = 3.477, w0 = 72.973, error = 10.847, diff = 0.042\n",
      "392: w1 = 3.478, w0 = 72.988, error = 10.805, diff = 0.042\n",
      "393: w1 = 3.479, w0 = 73.002, error = 10.764, diff = 0.041\n",
      "394: w1 = 3.479, w0 = 73.016, error = 10.724, diff = 0.040\n",
      "395: w1 = 3.480, w0 = 73.030, error = 10.685, diff = 0.039\n",
      "396: w1 = 3.481, w0 = 73.044, error = 10.647, diff = 0.038\n",
      "397: w1 = 3.481, w0 = 73.058, error = 10.609, diff = 0.038\n",
      "398: w1 = 3.482, w0 = 73.071, error = 10.573, diff = 0.037\n",
      "399: w1 = 3.482, w0 = 73.085, error = 10.536, diff = 0.036\n",
      "400: w1 = 3.483, w0 = 73.098, error = 10.501, diff = 0.035\n",
      "401: w1 = 3.484, w0 = 73.111, error = 10.466, diff = 0.035\n",
      "402: w1 = 3.484, w0 = 73.124, error = 10.432, diff = 0.034\n",
      "403: w1 = 3.485, w0 = 73.137, error = 10.399, diff = 0.033\n",
      "404: w1 = 3.486, w0 = 73.150, error = 10.366, diff = 0.033\n",
      "405: w1 = 3.486, w0 = 73.163, error = 10.334, diff = 0.032\n",
      "406: w1 = 3.487, w0 = 73.175, error = 10.303, diff = 0.031\n",
      "407: w1 = 3.487, w0 = 73.188, error = 10.272, diff = 0.031\n",
      "408: w1 = 3.488, w0 = 73.200, error = 10.242, diff = 0.030\n",
      "409: w1 = 3.488, w0 = 73.212, error = 10.213, diff = 0.030\n",
      "410: w1 = 3.489, w0 = 73.224, error = 10.184, diff = 0.029\n",
      "411: w1 = 3.490, w0 = 73.236, error = 10.155, diff = 0.028\n",
      "412: w1 = 3.490, w0 = 73.248, error = 10.128, diff = 0.028\n",
      "413: w1 = 3.491, w0 = 73.260, error = 10.100, diff = 0.027\n",
      "414: w1 = 3.491, w0 = 73.271, error = 10.074, diff = 0.027\n",
      "415: w1 = 3.492, w0 = 73.283, error = 10.047, diff = 0.026\n",
      "416: w1 = 3.492, w0 = 73.294, error = 10.022, diff = 0.026\n",
      "417: w1 = 3.493, w0 = 73.305, error = 9.997, diff = 0.025\n",
      "418: w1 = 3.493, w0 = 73.316, error = 9.972, diff = 0.025\n",
      "419: w1 = 3.494, w0 = 73.327, error = 9.948, diff = 0.024\n",
      "420: w1 = 3.494, w0 = 73.338, error = 9.924, diff = 0.024\n",
      "421: w1 = 3.495, w0 = 73.349, error = 9.901, diff = 0.023\n",
      "422: w1 = 3.495, w0 = 73.360, error = 9.878, diff = 0.023\n",
      "423: w1 = 3.496, w0 = 73.370, error = 9.856, diff = 0.022\n",
      "424: w1 = 3.496, w0 = 73.381, error = 9.834, diff = 0.022\n",
      "425: w1 = 3.497, w0 = 73.391, error = 9.813, diff = 0.021\n",
      "426: w1 = 3.497, w0 = 73.401, error = 9.792, diff = 0.021\n",
      "427: w1 = 3.498, w0 = 73.411, error = 9.771, diff = 0.021\n",
      "428: w1 = 3.498, w0 = 73.422, error = 9.751, diff = 0.020\n",
      "429: w1 = 3.499, w0 = 73.431, error = 9.731, diff = 0.020\n",
      "430: w1 = 3.499, w0 = 73.441, error = 9.712, diff = 0.019\n",
      "431: w1 = 3.500, w0 = 73.451, error = 9.693, diff = 0.019\n",
      "432: w1 = 3.500, w0 = 73.461, error = 9.674, diff = 0.019\n",
      "433: w1 = 3.501, w0 = 73.470, error = 9.656, diff = 0.018\n",
      "434: w1 = 3.501, w0 = 73.480, error = 9.638, diff = 0.018\n",
      "435: w1 = 3.501, w0 = 73.489, error = 9.621, diff = 0.018\n",
      "436: w1 = 3.502, w0 = 73.498, error = 9.604, diff = 0.017\n",
      "437: w1 = 3.502, w0 = 73.508, error = 9.587, diff = 0.017\n",
      "438: w1 = 3.503, w0 = 73.517, error = 9.570, diff = 0.016\n",
      "439: w1 = 3.503, w0 = 73.526, error = 9.554, diff = 0.016\n",
      "440: w1 = 3.504, w0 = 73.535, error = 9.538, diff = 0.016\n",
      "441: w1 = 3.504, w0 = 73.543, error = 9.523, diff = 0.016\n",
      "442: w1 = 3.504, w0 = 73.552, error = 9.508, diff = 0.015\n",
      "443: w1 = 3.505, w0 = 73.561, error = 9.493, diff = 0.015\n",
      "444: w1 = 3.505, w0 = 73.569, error = 9.478, diff = 0.015\n",
      "445: w1 = 3.506, w0 = 73.578, error = 9.464, diff = 0.014\n",
      "446: w1 = 3.506, w0 = 73.586, error = 9.450, diff = 0.014\n",
      "447: w1 = 3.506, w0 = 73.595, error = 9.436, diff = 0.014\n",
      "448: w1 = 3.507, w0 = 73.603, error = 9.423, diff = 0.013\n",
      "449: w1 = 3.507, w0 = 73.611, error = 9.409, diff = 0.013\n",
      "450: w1 = 3.508, w0 = 73.619, error = 9.396, diff = 0.013\n",
      "451: w1 = 3.508, w0 = 73.627, error = 9.384, diff = 0.013\n",
      "452: w1 = 3.508, w0 = 73.635, error = 9.371, diff = 0.012\n",
      "453: w1 = 3.509, w0 = 73.643, error = 9.359, diff = 0.012\n",
      "454: w1 = 3.509, w0 = 73.650, error = 9.347, diff = 0.012\n",
      "455: w1 = 3.509, w0 = 73.658, error = 9.335, diff = 0.012\n",
      "456: w1 = 3.510, w0 = 73.666, error = 9.324, diff = 0.011\n",
      "457: w1 = 3.510, w0 = 73.673, error = 9.313, diff = 0.011\n",
      "458: w1 = 3.510, w0 = 73.681, error = 9.302, diff = 0.011\n",
      "459: w1 = 3.511, w0 = 73.688, error = 9.291, diff = 0.011\n",
      "460: w1 = 3.511, w0 = 73.695, error = 9.280, diff = 0.011\n",
      "461: w1 = 3.512, w0 = 73.702, error = 9.270, diff = 0.010\n",
      "462: w1 = 3.512, w0 = 73.710, error = 9.260, diff = 0.010\n",
      "463: w1 = 3.512, w0 = 73.717, error = 9.250, diff = 0.010\n"
     ]
    }
   ],
   "source": [
    "# learning rate\n",
    "lr = 0.01\n",
    "\n",
    "# Cost의 차분(이전 오차와의 차이)\n",
    "diff = 1\n",
    "\n",
    "count = 0\n",
    "error = E(train_z, train_y)\n",
    "\n",
    "while diff > 1e-2:\n",
    "    \n",
    "    # opimizer - GD(경사하강법)\n",
    "    weight0 = weight0 - lr *1/num_of_amples  * np.sum((f(train_z) - train_y))\n",
    "    weight1 = weight1 - lr *1/num_of_amples * np.sum((f(train_z) - train_y) * train_z)\n",
    "    \n",
    "    new_error = E(train_z, train_y)\n",
    "    diff = error - new_error\n",
    "    error = new_error\n",
    "    \n",
    "    count += 1\n",
    "\n",
    "    print('{}: w1 = {:.3f}, w0 = {:.3f}, error = {:.3f}, diff = {:.3f}'\n",
    "          .format(count, weight1, weight0, error, diff))\n"
   ]
  },
  {
   "cell_type": "markdown",
   "metadata": {
    "colab_type": "text",
    "id": "sz0QHaJp9wsg"
   },
   "source": [
    "#### STEP2-6 :  추정 회귀 선"
   ]
  },
  {
   "cell_type": "code",
   "execution_count": 0,
   "metadata": {
    "colab": {
     "base_uri": "https://localhost:8080/",
     "height": 266
    },
    "colab_type": "code",
    "id": "qCYuyZ2i9wsk",
    "outputId": "b23207f0-1716-4852-fa75-bd64f1daaeef"
   },
   "outputs": [
    {
     "data": {
      "image/png": "[encoded data removed]",
      "text/plain": [
       "<Figure size 432x288 with 1 Axes>"
      ]
     },
     "metadata": {
      "tags": []
     },
     "output_type": "display_data"
    }
   ],
   "source": [
    "x = np.linspace(-3, 3, 100)    # 균일 x 생성\n",
    "\n",
    "plt.plot(train_z, train_y, 'o')\n",
    "plt.plot(x, f(x))\n",
    "plt.show()"
   ]
  },
  {
   "cell_type": "markdown",
   "metadata": {
    "colab_type": "text",
    "id": "sEYYXO4p9wsr"
   },
   "source": [
    "## STEP3 : 선형회귀 함구 구현(종합)\n",
    "지금까지의 연습했던 기능들을 이용하여 구현\n"
   ]
  },
  {
   "cell_type": "code",
   "execution_count": 0,
   "metadata": {
    "colab": {
     "base_uri": "https://localhost:8080/",
     "height": 241
    },
    "colab_type": "code",
    "id": "AGipj1uf9wss",
    "outputId": "4bb27b69-40e0-4718-e06a-76c91a1bd6c3",
    "scrolled": true
   },
   "outputs": [
    {
     "name": "stdout",
     "output_type": "stream",
     "text": [
      "Collecting celluloid\n",
      "  Downloading https://files.pythonhosted.org/packages/60/a7/7fbe80721c6f1b7370c4e50c77abe31b4d5cfeb58873d4d32f48ae5a0bae/celluloid-0.2.0-py3-none-any.whl\n",
      "Requirement already satisfied: matplotlib in /usr/local/lib/python3.6/dist-packages (from celluloid) (3.1.3)\n",
      "Requirement already satisfied: python-dateutil>=2.1 in /usr/local/lib/python3.6/dist-packages (from matplotlib->celluloid) (2.6.1)\n",
      "Requirement already satisfied: pyparsing!=2.0.4,!=2.1.2,!=2.1.6,>=2.0.1 in /usr/local/lib/python3.6/dist-packages (from matplotlib->celluloid) (2.4.6)\n",
      "Requirement already satisfied: cycler>=0.10 in /usr/local/lib/python3.6/dist-packages (from matplotlib->celluloid) (0.10.0)\n",
      "Requirement already satisfied: kiwisolver>=1.0.1 in /usr/local/lib/python3.6/dist-packages (from matplotlib->celluloid) (1.1.0)\n",
      "Requirement already satisfied: numpy>=1.11 in /usr/local/lib/python3.6/dist-packages (from matplotlib->celluloid) (1.17.5)\n",
      "Requirement already satisfied: six>=1.5 in /usr/local/lib/python3.6/dist-packages (from python-dateutil>=2.1->matplotlib->celluloid) (1.12.0)\n",
      "Requirement already satisfied: setuptools in /usr/local/lib/python3.6/dist-packages (from kiwisolver>=1.0.1->matplotlib->celluloid) (45.1.0)\n",
      "Installing collected packages: celluloid\n",
      "Successfully installed celluloid-0.2.0\n"
     ]
    }
   ],
   "source": [
    "# gif 그래프 만드는 라이브러리\n",
    "!pip install celluloid"
   ]
  },
  {
   "cell_type": "code",
   "execution_count": 0,
   "metadata": {
    "colab": {},
    "colab_type": "code",
    "id": "fJCvHf069wsv"
   },
   "outputs": [],
   "source": [
    "import pandas as pd\n",
    "import numpy as np\n",
    "import matplotlib.pyplot as plt\n",
    "import celluloid\n",
    "from IPython.display import HTML"
   ]
  },
  {
   "cell_type": "markdown",
   "metadata": {
    "colab_type": "text",
    "id": "xr8-5sP89wsx"
   },
   "source": [
    "#### STEP3-1 : 선형회귀 함구 구현(학습 시키기 전)"
   ]
  },
  {
   "cell_type": "code",
   "execution_count": 0,
   "metadata": {
    "colab": {
     "base_uri": "https://localhost:8080/",
     "height": 265
    },
    "colab_type": "code",
    "id": "dor2F8L99wsy",
    "outputId": "28925bf0-a6d5-465f-bc76-459933a8363e"
   },
   "outputs": [
    {
     "data": {
      "image/png": "[encoded data removed]",
      "text/plain": [
       "<Figure size 432x288 with 1 Axes>"
      ]
     },
     "metadata": {
      "tags": []
     },
     "output_type": "display_data"
    }
   ],
   "source": [
    "train = np.loadtxt(input_file, delimiter=',', skiprows=1)\n",
    "train_x = train[:, 0]\n",
    "train_y = train[:, 1]\n",
    "\n",
    "# weight값 초기화 (임의의 쓰레기 값)\n",
    "weight0 = np.random.rand()\n",
    "weight1 = np.random.rand()\n",
    "\n",
    "\n",
    "def f(x):\n",
    "    return weight0 + weight1*x\n",
    "\n",
    "\n",
    "# Least square(최소자승법)\n",
    "def E(x, y):\n",
    "    return 0.5 * np.sum((y - f(x)) ** 2)\n",
    "\n",
    "\n",
    "mu = train_x.mean()\n",
    "sigma = train_x.std()\n",
    "\n",
    "\n",
    "def z_score(x):\n",
    "    return (x - mu) / sigma\n",
    "\n",
    "x = np.linspace(-3, 3, 100)  \n",
    "\n",
    "train_z = z_score(train_x)\n",
    "plt.plot(train_z, train_y, 'o')\n",
    "plt.plot(x, f(x))\n",
    "plt.show()"
   ]
  },
  {
   "cell_type": "markdown",
   "metadata": {
    "colab_type": "text",
    "id": "7eKd8GMC9ws5"
   },
   "source": [
    "#### STEP3-2 : 선형회귀 함구 구현(학습 과정 최종)"
   ]
  },
  {
   "cell_type": "code",
   "execution_count": 0,
   "metadata": {
    "colab": {
     "base_uri": "https://localhost:8080/",
     "height": 813
    },
    "colab_type": "code",
    "id": "mAAphSVf9ws6",
    "outputId": "11138764-417e-4bb3-9c5c-d01c212dbc92"
   },
   "outputs": [
    {
     "name": "stdout",
     "output_type": "stream",
     "text": [
      "1: w1 = 1.477, w0 = 18.407, error = 37801.616, diff = 27567.533\n",
      "2: w1 = 1.973, w0 = 31.849, error = 21878.609, diff = 15923.007\n",
      "3: w1 = 2.350, w0 = 42.065, error = 12681.480, diff = 9197.129\n",
      "4: w1 = 2.637, w0 = 49.830, error = 7369.218, diff = 5312.262\n",
      "5: w1 = 2.855, w0 = 55.731, error = 4300.856, diff = 3068.362\n",
      "6: w1 = 3.021, w0 = 60.215, error = 2528.570, diff = 1772.286\n",
      "7: w1 = 3.146, w0 = 63.624, error = 1504.898, diff = 1023.672\n",
      "8: w1 = 3.242, w0 = 66.214, error = 913.624, diff = 591.273\n",
      "9: w1 = 3.315, w0 = 68.183, error = 572.105, diff = 341.519\n",
      "10: w1 = 3.370, w0 = 69.679, error = 374.843, diff = 197.262\n",
      "11: w1 = 3.412, w0 = 70.816, error = 260.905, diff = 113.938\n",
      "12: w1 = 3.444, w0 = 71.680, error = 195.094, diff = 65.811\n",
      "13: w1 = 3.468, w0 = 72.337, error = 157.082, diff = 38.012\n",
      "14: w1 = 3.487, w0 = 72.836, error = 135.126, diff = 21.956\n",
      "15: w1 = 3.501, w0 = 73.215, error = 122.444, diff = 12.682\n",
      "16: w1 = 3.511, w0 = 73.504, error = 115.119, diff = 7.325\n",
      "17: w1 = 3.519, w0 = 73.723, error = 110.888, diff = 4.231\n",
      "18: w1 = 3.526, w0 = 73.889, error = 108.445, diff = 2.444\n",
      "19: w1 = 3.530, w0 = 74.016, error = 107.033, diff = 1.412\n",
      "20: w1 = 3.534, w0 = 74.112, error = 106.218, diff = 0.815\n",
      "21: w1 = 3.537, w0 = 74.185, error = 105.747, diff = 0.471\n",
      "22: w1 = 3.539, w0 = 74.241, error = 105.475, diff = 0.272\n",
      "23: w1 = 3.540, w0 = 74.283, error = 105.318, diff = 0.157\n",
      "24: w1 = 3.541, w0 = 74.315, error = 105.227, diff = 0.091\n",
      "25: w1 = 3.542, w0 = 74.339, error = 105.175, diff = 0.052\n",
      "26: w1 = 3.543, w0 = 74.358, error = 105.144, diff = 0.030\n",
      "27: w1 = 3.543, w0 = 74.372, error = 105.127, diff = 0.017\n",
      "28: w1 = 3.544, w0 = 74.383, error = 105.117, diff = 0.010\n",
      "29: w1 = 3.544, w0 = 74.391, error = 105.111, diff = 0.006\n"
     ]
    },
    {
     "data": {
      "image/png": "[encoded data removed]",
      "text/plain": [
       "<Figure size 360x360 with 1 Axes>"
      ]
     },
     "metadata": {
      "tags": []
     },
     "output_type": "display_data"
    }
   ],
   "source": [
    "fig, ax = plt.subplots(1, 1, figsize=(5, 5))\n",
    "# ax.set_ylim(min(train_y)-5, max(train_y)+5)\n",
    "# celluloid.Camera On!\n",
    "camera = celluloid.Camera(fig)  \n",
    "\n",
    "# learning rate\n",
    "lr = 0.01\n",
    "\n",
    "\n",
    "# Cost의 차분(이전 오차와의 차이)\n",
    "diff = 1\n",
    "\n",
    "count = 0\n",
    "error = E(train_z, train_y)\n",
    "\n",
    "x = np.linspace(-3, 3, 100)    # 균일 x 생성\n",
    "while diff > 1e-2:\n",
    "        \n",
    "    ax = plt.plot(train_z, train_y, 'o')\n",
    "    ax = plt.plot(x, f(x))\n",
    "    # 찰칵\n",
    "    camera.snap()\n",
    "    \n",
    "    \n",
    "    # opimizer - GD\n",
    "    weight0 = weight0 - lr * np.sum((f(train_z) - train_y))\n",
    "    weight1 = weight1 - lr * np.sum((f(train_z) - train_y) * train_z)\n",
    "    \n",
    "    new_error = E(train_z, train_y)\n",
    "    diff = error - new_error\n",
    "    error = new_error\n",
    "    \n",
    "    count += 1\n",
    "    print('{}: w1 = {:.3f}, w0 = {:.3f}, error = {:.3f}, diff = {:.3f}' # 소수점 3자리까지 표현 포멧\n",
    "          .format(count, weight1, weight0, error, diff))"
   ]
  },
  {
   "cell_type": "markdown",
   "metadata": {
    "colab_type": "text",
    "id": "BCHH21YV9ws-"
   },
   "source": [
    "### STEP4 : 최적화 과정 살펴보기(GIF를이용한)"
   ]
  },
  {
   "cell_type": "code",
   "execution_count": 0,
   "metadata": {
    "colab": {
     "base_uri": "https://localhost:8080/",
     "height": 381
    },
    "colab_type": "code",
    "id": "rmRBdDcA9ws_",
    "outputId": "a9509490-4ed5-4d3d-8534-845453d84b4d",
    "scrolled": true
   },
   "outputs": [
    {
     "data": {
      "text/html": [
       "<video width=\"360\" height=\"360\" controls autoplay loop>\n",
       "  <source type=\"video/mp4\" src=\"data:video/mp4;base64,AAAAHGZ0eXBNNFYgAAACAGlzb21pc28yYXZjMQAAAAhmcmVlAAB5QG1kYXQAAAKtBgX//6ncRem9\n",
       "5tlIt5Ys2CDZI+7veDI2NCAtIGNvcmUgMTUyIHIyODU0IGU5YTU5MDMgLSBILjI2NC9NUEVHLTQg\n",
       "QVZDIGNvZGVjIC0gQ29weWxlZnQgMjAwMy0yMDE3IC0gaHR0cDovL3d3dy52aWRlb2xhbi5vcmcv\n",
       "eDI2NC5odG1sIC0gb3B0aW9uczogY2FiYWM9MSByZWY9MyBkZWJsb2NrPTE6MDowIGFuYWx5c2U9\n",
       "MHgzOjB4MTEzIG1lPWhleCBzdWJtZT03IHBzeT0xIHBzeV9yZD0xLjAwOjAuMDAgbWl4ZWRfcmVm\n",
       "PTEgbWVfcmFuZ2U9MTYgY2hyb21hX21lPTEgdHJlbGxpcz0xIDh4OGRjdD0xIGNxbT0wIGRlYWR6\n",
       "b25lPTIxLDExIGZhc3RfcHNraXA9MSBjaHJvbWFfcXBfb2Zmc2V0PS0yIHRocmVhZHM9MyBsb29r\n",
       "YWhlYWRfdGhyZWFkcz0xIHNsaWNlZF90aHJlYWRzPTAgbnI9MCBkZWNpbWF0ZT0xIGludGVybGFj\n",
       "ZWQ9MCBibHVyYXlfY29tcGF0PTAgY29uc3RyYWluZWRfaW50cmE9MCBiZnJhbWVzPTMgYl9weXJh\n",
       "bWlkPTIgYl9hZGFwdD0xIGJfYmlhcz0wIGRpcmVjdD0xIHdlaWdodGI9MSBvcGVuX2dvcD0wIHdl\n",
       "aWdodHA9MiBrZXlpbnQ9MjUwIGtleWludF9taW49OCBzY2VuZWN1dD00MCBpbnRyYV9yZWZyZXNo\n",
       "PTAgcmNfbG9va2FoZWFkPTQwIHJjPWNyZiBtYnRyZWU9MSBjcmY9MjMuMCBxY29tcD0wLjYwIHFw\n",
       "bWluPTAgcXBtYXg9NjkgcXBzdGVwPTQgaXBfcmF0aW89MS40MCBhcT0xOjEuMDAAgAAADe9liIQA\n",
       "EP/+94G/MstfIrrJcfnnfSyszzzkPHJdia640AAAUN3lJJKoi+xkjgAKLJX4KtXEB0XxVNrbS4PD\n",
       "J6nJgrxSChKWI6uJF/RkiqPh2aKs6KXzDED23ON7+4g5RRC3v6QHhCGgSe3kK0/qkhlGIpIjAE7o\n",
       "y2+xjkwXlybKBrJ2IgobFUiPkjTJzzhVk5D0Rhx2MG2qy4V6wigDHbzq/SFRpOqbXKcMXxtqda6N\n",
       "It7eS2w5//jiuK+q79gAwa1XKvkvw9n0vy2akdJ1Gw118pMLUIhq4DJqeVnuT+uImT59VbrU8yhE\n",
       "VR9ldlmiji8H3EdYZqDCz+NqbJ8PWVXJLhFEf4eBye2N3P93xWtCSVbN450pr8XcMS2G3do4cMGx\n",
       "QBUeUDEHES5Vz0oRqhWeEHNFDdybfBqNwARM/H9GQn2xVmmW1mkQ6OQ4WK0yZvhi+BjSvKsuTA4v\n",
       "z03Mn9qoE4pqZOsWytb4sIVngqUcEOwbVTa+RFOVBeCijXwGEZBglMit3J4qIHjtJLh7G3rknxQD\n",
       "iaP4KIg1C+GvDZi5Wsw3CN3hhFSAcYqo7VhD0jAzVbxmYekEsF9+R+lQn4cWdAiW0ie4EDmVBWdX\n",
       "nokcA2OFC5GKnvAOg55bMg7yTnDGcQ5HFOM+aZo7Ie6jDqZeBWw3ocUjeb3gBtatQEgkjspajZlo\n",
       "viFL2GfRHTkBMVmrPSr4SuyvRFxiaxaJ7AbjgLxYVEmaM4zf8oRlo3wpFbDF4DsKVrbP+9bvmMkd\n",
       "+E2Ryl4+DfSloQQUk0FwtXM8Sc5jSIiHGDN6GVhjTuwai/Ue5TgqHPycM4J2fKISHL2I6UnwcKxB\n",
       "/M4X8SIgNzASlhl4/zA2KuFe/S++9b49Q2cN0jl6R9w/g8c1gklxglLP0Iz038kLbiw6yylb6H9x\n",
       "ZqGI/9JF8yZKOnlb30779LWZ+G/NDfX2iPPzJhhOX4SgvJ6hQFyJeIGR3jnVb01zALKejnCyL5Hc\n",
       "bBiC3eNTUSTlqjvH3J+OmjXI67rJbXdlBynbMZHy33aLOespX7yC5WOdE49R7DhdwZB1Acl3hhdQ\n",
       "k8guOQvezzS5JuRIhAYFa0a+zBvo3B1R4LhVC6s/WI/d4pW8OXFcnptXBGJi+Od85RdB1cemWhg2\n",
       "DpzU+Jz95CbmBKIWZ82ERdUMBtfi0ZP4uL5nWYW/ijABJJzL5iUaVz/4RX4YjEl0LmPa0QcYF9fr\n",
       "O78cYjAqCKweULr2PAULVWFNrA0MlP1FHjM53Vdq2OIvaOh6J5pSIGebfdLGZgbSpZ3VylI8WQn6\n",
       "z0l2cpoPTPbxGTYy2JB8UnTRcQibpadMnDCHeNRykI6x7F3pfenCQR5cUuj0gcpFjdrZczXIJbyT\n",
       "eq554IvqX0xA3IeFyjaJgACQmPuzevTXde0iGPmOr2834l3x4RlqwsxxnDYAZfxymRMIZtVmWDPJ\n",
       "YUgH0CaopLna7w7eaZcl1elVudh7R4ZAafCx49fWa9As9ZlG/y+ulwwwvzvVV50Xd5oXtO2M8yrM\n",
       "gcQUk1sHHQG3izueorYt0MYihX+++iBuzZFJ29fw5itwEtbKgHY2sGv5PdC/0S/pGM7/ZW/y4dGV\n",
       "GrHgYoGZFehm3BY7U1yMLL2EhRxmr6xQrtufKt+2bTRJTY56hoEbVYOtkh7gSXdKLWKKH/qEFazk\n",
       "PKn78FBZZ84VzBEo0JUh5S3FOG1TbXP2dAk9Q9W93AVzJ75Ym1fb0oYj6spAf5khyJfFxMg8SLKQ\n",
       "cf7ojd6eKP/wWqMySJ7qWskiwdYrQCiokq7cifUSiyv+9FyUIEx6euLylrG+Z6t/pr8cqjFxusWV\n",
       "oQCcdU/f+fQE/BO5ZDNZsPt43TTYetO0kZU+s3TczXQqlI6zZYrTljFsqYpxz95Sh73qOsLTTSQU\n",
       "nIJgJk6n2uAXzD3ya1mpVXtisigzXyyaa6zndsjUSVJW114O1wTrSopkrFVtMKNy8yWJ9Q/6yB72\n",
       "K2it5W0otBWKvFlQuAdwrMU71baXCjOA3XQzUFAWs2tpGZ9u4j7th5zB101WBGJoTibyV22NQjqP\n",
       "bycseaSU8p3w0UJQ6tLZuM5z23/YBzxeo1kFtFvRjQfKjPmDo/dXBGSA3L2F2M5CJ/73VYPglWbS\n",
       "o84bLBe3IhrMax088NTRQoX8ary8LNmIIsJNbYqIaojUG8fUaIgHKIAnWqgUpL5VpJTv0V7N0jQr\n",
       "EuI2NrIpF378Dd9K828L3wGgEf30X8XBAj37FE+SDTELyAEGcXhHz7VzpRQ/0nSglhKlw8KcgX/L\n",
       "Qn1SZt39yQW5LVuWnqzLRA92+xKEKsI7qqDFlC2+Wl3c4ZtB+2ZmZh424V+8iBbsnyrh22Uk+iNk\n",
       "9oxr/yzRSEYCbOyOmcezwShZd6XshR4SvI4uDpWtb50xGoJrBJ3GL/iEjhA8pob2yWPO7mpKjQce\n",
       "IpFO6+8DPVMilOc6sVOC7cFjwTx4/b/my++MlXkT1w2R7xQg7KVDiwqqn2aqDcaGvLET3Gl15Asz\n",
       "hDQFepXKA61LzGiDrPAFipDn+9r8noZd6vx8dI44+NiLd7e6Y+t9jgmIVXuKvbN1mSkdcX9sIgH5\n",
       "SdgBVDXw403qp5Ep3hRnjFg/5rEQEVhckBth2ObfByCR6RwSDg6KFh6IfY4Qb1JUQK+bxja8EZH0\n",
       "72uhxFRRf0G08ILXsLph1IA2jv9aZOILbGbtR6l6WgTXHvwMRZuIYPrUDlGKvR+pdd6f2iYS3062\n",
       "odgO6Hny4FNhBw4PNzSn2SwxN3xcvLwecoeOGZf1zPn3n3t2Lorp9L+oTJFFjAiwnmVr0h3fms/8\n",
       "6mGAmnRpuPAxocbwFvXbyTUsKLJgcD5mCQTMPuAYEzicNJJodPotdZCJEN34YlQKjIOgNH0f0mon\n",
       "5mbh2eNdkKj86g3iaXcC2gAof/nRXmOM0lXeR17qTl7g5MqIxBa4//R6beDaUEqQxczFfuRMiGbp\n",
       "7Yfsf3IFfQ44TwAcbYLfj5eEtc+BZ+dBCP43wUiO/Dp0T89zsGL1qslf5+fPSUmRSft9mDNQRthn\n",
       "95j/A5eCMo0Kn/sjPFwHGLHo0OCB51yQj5ZXKZWM4HVD2vtuZGmDwAom/Ij41M4bO+BOmIayGuVo\n",
       "YaLF9OUHim4P7t8uQB0cjEXeqU0R5xLL4c2ji3SXyBRFQgG6gWjrIsnOfilziUVO9oaOFxXCXN+n\n",
       "ZQXY91+4LTOnCSemfuS/rPcpVH5odeR1bavTVH+DgIESxolaQ0CffXwNidvIzPKvZ1+D379TOWS/\n",
       "SuAlFQs1SK1OwX/TXINO+wHK4VMaIGEMIaUK0nh0VTpKf/r//LEXD/q98NQlAVpwvWyQ+krDk631\n",
       "0tmGYv94zprb7U3EzlmLGT2X/qgsWYG3sVfKU6M/VIHQw9Kcr6W+fQYpNwqZ5W1wfxY+joBUUXg/\n",
       "ZTHzXjAbzZuxY/FTzQrf4amRa/1iUOQgWIfbfvp7ouakoifLMB8drhoEz7UeSGXWVcqTdz4xqOij\n",
       "Tr1JW87LI4xLZXYgSY+/PCWracyDiYmRBFetkK9bzvmQ7DlCcaE/SBm+ewKquLNl+fbSES2bcTQj\n",
       "L6SohbnktKSDySakBAO4ezo98jdqwYtB6QCI1M1nRDNj7nDOp6yhgM6v/CL+1AkKEDCmQjhVBut5\n",
       "nAK/N1hamNalcwser2xvKgfqPXLzqByGVvB0aLwPajYeNNf3WczY44EvNPuR4PJjOTa/NddyL6xM\n",
       "chyBE4CHpRANr64czX4AtxFt3Mxisla+7JRYDnew38ZljMmdCy85BeYbVRjL5z1bzqnM/2DYLj5S\n",
       "4B8330pQ1UYiYW3ULkFpCDP////xXzEt8uR6De+N4sB7xG1s7S1xA0ZYiotXylRCtG5IfO4MQCQo\n",
       "GyXSL04N/QaZ8qkUONmOd8Dv/Svo3fOBZEpCo+V+aThLTzw0QFC/ZltAF36+A4LuFXQqhLl7yb3e\n",
       "e2EjR0hgPJSgcqXZKCdgnonBwX0ebqML9aDHmYw5FoWu80BjvqnFo6eDN8Uz3Dv93nv/sKu9cMAF\n",
       "7oKHyC3JG7mXmXVBT9XkhbC4LlmwlQbcbmIfnV/y9jQi0rlsL7huHSBf8snveWccl3mTS2wxGHDK\n",
       "MgawdaPmUoa0b5KPTCkzhX2LHPPO11xvuon5FAqvoKry8A854IMTrO9FXaX4YpujUvbyv1WvgllS\n",
       "cCB3Qg+sEgT3NfHmJmBNUUEr8FgRXf3xdpPY6qow4r0wbfGtTQD1ZYVahmcEan69nKJWO1UOyDEL\n",
       "zlbdPlN9LnGGNyI/M6VPEnrkXA8YjdN6nfAz866ph8WfY+dUUD51udd4vDDDMcbd+dg/TDzygW2s\n",
       "Kfnpb28QcC/92GKBBFujdtgXx/z0jJH0baJ+4ub455uG9OwkU83LGHX0hjObSr4vQ4qvG4nYBBQ3\n",
       "UoKdiEFnFK9ZRjomNfMWrfiCN3bfIO+hBXZT8ZNfNnVKjY1Aof5/qpi7buI6Vz1nA+8soXg5a238\n",
       "oRad7xxJJ3S9j7V0+Gd5WAE8BqY26U8OiXIx47iZ4P/h7e/RIIbaUMTbXHvSBNCLDVsm35w0NMlr\n",
       "sryfrxamv5EddOYeB1yZw5vy5y0BBP67yV6rbRNkuc0I3D8P28HO+Mi3cyDfVGcEvfFmXg8q3fW6\n",
       "tR2j3Fkesxe3tN8ciaWGetqoprO7y44BeZVbUju8xBbymgIBngSvRXt3X3TFbWZMFsY88zufQKAN\n",
       "s7q07UVtuYvPkwYu8tDCDj7ULbbgACqANYAAAeEAAAQ2QZohbEEP/qpVABssV5ADb/7pCgfNy5CI\n",
       "1ZmjzODO3KyQ/oLDcPVNNB1va1gQd+OIuZSK+Mmm5SuuX0S/8UeVghJZceiaGLy2FznTIuSOTTQF\n",
       "oAltOYueWVfqiX7ppE5IlHkfFIDAceabC+Tb3H94nmP19+lZcoDUsr/Ff96ZcavDd/oySvjzOtWw\n",
       "Yucn47c7bPaqZa6Ao17htXxRSRk0E/aR7TrmvuDf9zNZzPKhlkocB6Z0lePgYxeU565pM0g74JlX\n",
       "OoqmX4seuWZ3G2gSTYNxa55MQdRD2X+MKhp63k5VFZgRM21g8Io0kr0/iF52hz6fcr/0I2V71vdi\n",
       "fpW8W+8Bkml3Pptd0LrzHGiyzK7FtvVxj0Hly+he1Kgvh+4vLpKv/9s84kk58RY7kJXcSarDfvx7\n",
       "7gS+ovQnYisuSHInzyrtZy02jcxGPehEKB5tF0bVoCsv4dOqCyiWdTD4tikeV6mS9v3GqrS6rKb7\n",
       "v/lsYOZMjqdbk6jjyONETCdYQncwOk1WjJIpeRDBXJa+EXN6YvNSIz8NRHjhtVecPQiQStWtR1KM\n",
       "VxKTzvykts9FYeET7/BfVhF9i3lBo5dc/HX/ay8E8uXv4EwSkfgzInOVo3yEa/Wg3rL59pMO47jb\n",
       "KER0DPlHaxnAt1MbW9GGCa9zSE18i6JtDSpzWHeUoHeHmwLgyYri/bWLrr8nR+gNOst7fYqP+dVm\n",
       "HfKf8PNNU6DI+NPs9VMnosNwe7coffDArfG94JfwHuDqjS5sqW+YgIm2K6S2pL9cW0YFStiq9yFX\n",
       "/dXtJ+ONbHOF2yH+OD5K92uNnpRjY/LS2MpPs1X3heQEuwPTqiwUdoGROIaIqk4wylMJAQlpPZGH\n",
       "JZxuikH9T1X+vOfMOdP/vIcZ5ci3APTA9wszyuPgcQi6p5YMZIkRCqFxA9jHr2BfOKuIrWKeE2mZ\n",
       "imba5jX407HKniaxTY9wgziqPV+duK0wogY74w6jkHKu8wjxESV43Mp8WRZg3vnohQEzSO1UND5J\n",
       "aoIJMcLHu94tMEXlTIziyFlz9IxWIk2naqMaDJC9mCVVWxthhPi0/y9oqHjtp2oYwcMkXOD23PJt\n",
       "qNiF41HxSa5j61DMqFK5LhPeg1FzxYVFH/r40RyTyvJbOhKUf3Gmw5iUPePGiOEeqM+J7mLYSj43\n",
       "3vWtvoz4ZaAEMw++QJRpUj2y8Gs2BXFZr78adfATYMMyqwboR2VxygGoH9uTIsvwO6NbID5DLyw9\n",
       "kmLf4HNDNA9ev0ZUKilAauI8mGHgkRczOrNo3m9aD5Z4fKl/eE3RN8GrmiTBktUv+K4YGZmLcE/3\n",
       "+qWY1DrLmX6WwhlYo5mbz3z6jcWVS3GiOO8jiBLxLIzdafWMZNOlD6I3XKMr/rpKQ0yNW2Sr8Fam\n",
       "XtC//hi80gAAAwACeG+Jm1uSTB+qk+8fz9fGpAAABO9BmkI8IZMphBD//qpVABsneXQpGYAEZTMt\n",
       "AGbJolX/lk82llyLlA7lL9TjQ0o350x6/SKuNCV0Wt0m2BOS8mq9Q4OOGK8GrFt8rq2VEeFqgxmt\n",
       "POt7oW5ipyuIwfKoxGPPL+MJwSR4QCkyvYhveyzt/hjCdxgYZpC2g+u4UMk2jf96EJpSQyHdwQY1\n",
       "QuEc8DK3uXDP6YTUk1gme3+l5Grn8da7SwAxMzm/8rLx1kUaQgrkehYImbCWLIBJ7i7ZJKA+Io1W\n",
       "8rEmmdGMkgXzvNKSK+cwTUcklIsaLaoG4sRm6vmqqyQh9CZUIYbGv4zlTUYp7OLFo4FAiqM5AhKW\n",
       "fnxt6cpahIZcsq58B+M0T+U81UETp/he/ASvaW00+h4GQi7DcEWuGViv0eU8P8UEqZzvxu7ilyTG\n",
       "dapEX7xRoigkr5f1W3aG7C9IYSIy25wR1/DQfi4pHzyPC7qM75yN7LCFc2nxJ7UOAK0SZSEnv3Oe\n",
       "HO0DTjUBHSXvST7Z3xe5RAdPtTCLTytPL77zilG7Siv0Sd0y4OcCE9n8W4QX0SOElHWf3SFcUpMG\n",
       "mTgXbZ7sS5YGqxWvOFpvQfukY2JiNdKhdFmN9BPWMhsIpd0K79KeXmM/dtfcZD49PWyI5gBqlPxi\n",
       "XcPJGVRbWspUq+1FPfIqEtoA1O6Lyck8cLaysAGXIeHETY/RAABaKrBEXGFV288+UPiNWcdMwCMW\n",
       "KOh3z+TWetBk1wnQASjurDKMQiJp2auHge3g1oVjw0aYjvxwzf58WIdCuFzQyD+G6SiadkmPVswZ\n",
       "15MnTaAOO+9YCPS8sIpE8eneqmXDfIBZydV7/BvdSaXJZy9WCH94Zt5x4Piu+/hgAo4h59MjS4Px\n",
       "imkltiTC+MI8O1PnKDU2MIqun51bC8UBz7pYIVMP4491Dc5T7YWWZNPkJK5YIW/BjBgLszS2r6NH\n",
       "gHUSC82XA37wAiHayTYPuGFWA6BhB1a4ho+zzj1BM6N7yt4qqidDXI200sBf5x/Ux8Qsq3SQfrbl\n",
       "38PMEYf5AblYNUc4C6OxTUEjo/GEyZtFsbyypZTpLjoNQWD5SpKgp5xC/yozwBBUXz3efoUQTynL\n",
       "p49bPGXyLw0l9+msMK2+neWjr0yVnuDpLlIh8X3WLL2uAVkC2wxSB7lNj/PFTEfJBIDTmN2MnWQc\n",
       "lE7KnnC4yT4PtKzhUTBP1aTgCZZeCVWyMMSZWS9vcc6Z6m0da8QgH32JBl7iNPIMBXfH/7PC4gBK\n",
       "z1jGmCGU4ff/xDdhb7udzwCOARucrtOWFWqBbrvP0tMH9gjBW1/BRpMAfEtd/NorxQkTeHsj/+kY\n",
       "+TEpzxja/CHKlZTeOrJcN7zELKaciU7y1mrv2GwKiDpNKpElWCT3Hxq9NyR0+z8IaW9JlrgJI/ze\n",
       "TK9rLB2H7NzyO51RUOv+Yw5xlz2JPfMYEv158Fk3sSTqHPYzQP8fS6sW/WNVIFuko9V6sndcTkf6\n",
       "LJ7p9uxgTFXHEKHLmqXRcwRdXWsBpc1YVdF8rSMRw7snCbWv8dxNaJSsRqhJ6ceFiWeqWm2B5gQX\n",
       "nvhLRKIs2akCbt8vz0W+UfvAL3eYsuAgZ3TQnpsF1SgkceXI7tIFCxE6dSjspIjmnK10Uj3irk+w\n",
       "+Zo+qMfY5G0iRCaHtplO3zmAvewLfeq6HfdRsJCIgAJPXE0E7gZ+WYEAAAWbQZpjSeEPJlMCCH/+\n",
       "qlUAG0ItEGAB0dL/WDksrNd23X/4CzozvlkmdqVfkOHA2Z3kL/zSBrPUxUcvGa+t/nQQHIkc45GM\n",
       "WNzar7lR4wNbxXXdbrXHARSlBs4mNWpN35YNGYBXc+m+sLubiVZl6QFLAVWo4f651zxIz+slFeXQ\n",
       "8N0B+6B3gZbLuzgXdGk3xfIiFPPAZ1RmKSObMGuk5+k1jmxGBT1s0MBSukzJW3udHIFgAPcxVtLs\n",
       "/+nZtRjnhLthgLkUNKBdNlJLPM03gUm/IGLVbCIRtLoKD/fYNN43ih1G7wXYpJ1bsGGAN1xFwT86\n",
       "Kf7xI9XxfIizrq3wcANndUCDMWE+Jnmyw4vKRiAAapb3MOTbAs4idngrY+TRn9qUg7o/Qjc3fu0X\n",
       "qpsD/oIHDgGLSkHpStayjL7IJsnQccAsQyycmEN5SDzhCiu6BxlcPZxkj0Hz5YzJHvnsMifwUfGs\n",
       "JzHj+Lm/9NQRppcK5YBmppF+NRh99zw7V8Uk+kTJwtILRjtGW6O3uqPej4bBwUY9JSp+IyyKyT8A\n",
       "e8Tbg4fPfgEJ8rOOjEUxFkDyXJmjqDqq7hjDXGXmu/zjlubx7rophED/LmSn4AQPDLMTPRigdYDS\n",
       "tws/UCAQUziUi0y8E2DGviXgQwNNLEgYVNB/ZFoonOfXME4oKa9uwzR0PMjeF23SN24ZJMf3pt8t\n",
       "5ycpQRzAtm4foUtmHi6oRX+f52b07emKmsAdJtv91uBT/m4ILXDB8wkfGmbuq8Skuropr9I50rgg\n",
       "RaJsST4OzbTh4fbjqGaUDGJuOl9WJ4Q6BeqeeR/RBa/E8aTY2VmjvI/FbQe/cuRu1Y0dPRKlwN93\n",
       "x1kKzHsDZiTzMj/ctoYzEjAlwU5Nd5K75o3BszT2WN8SUA4md/LhLjPnOPpsB7Mki+e+wDPdsKFm\n",
       "HiLZnqn3LDXhK5B7li4GaitOXp+uxITlyMMR5xF37Bj9s7UCpNzPYSv1p/gLKvyrN2Kn0E2Xz7E5\n",
       "p8s64DDE+gQsgOPkHMcf+MWMHMke5c3Zqh8LIHhNAezJHD3m8phUidJEILeeoFPsCSlChNhdF3LX\n",
       "c5QwNI3AEe3ODiU2++e2NnueZBrB+6TCOeRCZAQ56lE5mSZu28SrFkgCNum+o9tKFsMLCENQ4n/K\n",
       "sJO3eNGOt1a2lDPEXDk1vBvAHN+mB9oD6mc0Ibakh6N0kmjbv2eHIgTGuOCRzLD/HJnh4RkSohAR\n",
       "5GzRO81NZHNFm+15itBxibA/HAQECVfNA0AvKwYW6amTmoMIdfW+xo4/keS/3ETisrjEXLelyVZC\n",
       "Y3g+G3XtBiVZgjFTRN4pU25Mqga0oPFKdJliWQ2j4VNJZWuiv4ebo62dZPwHjpMVn7QZaDGJKNJq\n",
       "R91DYAzgmgPivooShVdKHdpmSZAVXmiWlkWsV+Qn6HtnzwCtXq87VWiW4qf9R2W+Bcg2WDfW0HD6\n",
       "GxcR7B2K7xFnlPLlJWDPogBQ/Fh06Y1N7DGQ++PCO2fVsrc6RMTg5ivZkzFtqadD+qZlFjQfiRBx\n",
       "kP9ImC0H+vZcsSjOBpZLILu+SfLl7gXVFMJS2et8nmlbksgIs2Xb0jga15d1UrA6Q4Jqi2kmmUk8\n",
       "XG3yntHR3ohGn4s8RXvOBnjgfvH6eJzG/QFCZmUf3982SHIvCwg38HqVXSv4IoALsXePYssE4LM7\n",
       "/HqJmxbPDMGvkh77fb81GMaS+eWjkvLeECB3HNEBGYY/XNCJFGZGBGnTbW2OM5EJ0sTcr7mtiSu2\n",
       "A6yjho3sWOhLCpXN6EyK11dNakiEniVddXsx2KpAQj+Jq4OD0STQ/ysVjIH2YbQqC2bM605esxYQ\n",
       "VHwHQKukJUCtfRAW9GgyAR71rUdCJpXiDb6c4Oe16edsU4hP8CCSZtWjGKBNdZtULJhtUuEJOAAA\n",
       "BVdBmoVJ4Q8mUwURPBD//qpVABssvxJAD4TiCfi+9+/8kqELczgpRtcoP6GWKarjHPO3Ygil+Skb\n",
       "TFMPDy30+NlNTQzD/qCaqTi0QrImY6Nus6ojBTNA4dcS3g8tOWbIAnPxiXJzcOIiShU4HgXxzCAt\n",
       "NtpCjik6ER0abfFfW+haS+IVnh5sgDe+sZ2qiMqFOPTZ0k6+7Qs3XA1k6Z0HRIiVPpXn/5wplRUc\n",
       "Czc2oXmyWkgGL6e371J+2CTZoMAI0Cd+alBZN+R94mf7uPx1ghFP+tfIW2LGAaF1kNNG/qVQR4a6\n",
       "pS9OwVrYphgGLHiQ9GFe/efgoY8sfdPROurdJdne1cLjZL0ydtpey3ZX2pu7auBL23zoshKOHbtV\n",
       "cwYpd1UvvsKe5CR/pDyNxUulM9f0GwLVlRpcFHVwNnezfhOm+UZOEgRm23jSBfOtYkNe546Poouy\n",
       "wt1SiHutiJo/XZMbWKwlITWTWRasZNWNybUoOU8icZv5oIoCMW8M7kzExwKXUlSSmDQwbL8yVuo9\n",
       "ydjpaKNst0EtdKijA6NANvzZM7HY0XbXmKYU0dLAJsUBma/QxIOaW/9UNXrAJ3b0KMWF/fsQlCIK\n",
       "7PdZ3RuFa/Cru3tjDseUw6INdvbwFfTLthbpS84rUgc8rqM0m5BaCdHbOyuKz6xOUeryQw5l+o7c\n",
       "5YB9KJHhmLKj3SWdq/PAh56WOI+1L8n4DnBQ1EUN3WHioL/zd4LnPtQKVfWeyGSXiNOLrCXUOQ/l\n",
       "Pu3CfdUZG9OW+uP+HBMhgEfKoR6iBpEHjTcw5gQz3tRsKed53NDuGX7N/Laf4fI0ZnvAvKWGAXAz\n",
       "Nf6HUZzSZ2kIZ/b0xxZUZEWJ+RFQn7E7UZdekLUfpGUc7PQpwXShiu8zGb05Cn9dvTOxsg5lgM5c\n",
       "+AUvRoNPwhCeUEVh4e4UqJK6A+AaIS0cMZVSURD9QdBVSnwSZ14+KjFo1CEzdvu+YI/UQkQjKUvi\n",
       "kCzKStNguRhleaWfJJywtUA+1eXzQPa7a/JxC9MPB1tYqkWPDPP/IiSojW83dOMPl/tbfV9+g3rx\n",
       "dKGdcxRw1Q/edH50GFewKdeY6EchW7U9DJuIKmwC/ep3Wu7smwKRrKNRjYx42dcLkUgu/ABA4VmH\n",
       "ARfJPqCq7Q80s+XKsR54fSwVd78ZUSK3809ZbbZK+uBnWnJkhcMxcQUV6PvHokQdtwg5SvIpjwWO\n",
       "6UfuZQbWjwidYc10hVZS5UmazOu8Fwf4FjR8fK2tqEM6GhCooV8wRrOBRM3x9l8JS8jS4lBWC/G2\n",
       "CNrl+9R/CfnO743tvwO2MzRa87pP5idhjzDQ216B94or9+tKBhszSXHA6mF6Pf0wbVUH/fS/HPOx\n",
       "r0874hznQL2PnIIN3i84G9kGOOSRC0J6ybFNXg/piS1pVJtVlhI6KtQu0IPis6QQqONEhL7xS003\n",
       "hg8Z1r535O30zHkfOTuMRGdxztfsVKood+VchNWLVfLnrYNxWOx+YtRJoAUEI/BwbFszYjLxbJ2U\n",
       "7Ravxqm+7jRMiCZm9jlKiUFWzdT3l7ca8fNfCLSz0wLN5ZAWNuvKzWp5+sRb2pROZ6bdBMseXQim\n",
       "mG9/9F9GFGn8tDBu381lQoPO2odoyIoSQSUF9/XRfo0tBTj0iogEd1Gt+fiCWSY2Bfs+oM3A8UB6\n",
       "UlkVPUuwLyBqQTK2Vq/SVv1+zVBYSPShzWDkOSTu4PuOc6czW/e6Ohkqzllt8Nw2+aEY9wNMP3Lj\n",
       "tmO24GBVTSEL7hjPwTKDeyfI4ztpmd00FT9fVMFRt60MmPA9x+FsFHiNeA14AABmNjn4fOVWmOBx\n",
       "wQAABH0BnqRqQ38AVl58k4i8/AC0/tyda+22wyuOENfVVY47n4FtQ4Gf8EwxHdnUeNHSza3qN1xj\n",
       "GP7vTkt4LLLiC+pJsPoZBuZnvQRHa4QHBitUcjymLfqRV2Oy/Xe6Rcd2Xy7gmOy6iliVw8ZCK6l3\n",
       "KUT5rbLQ6DzQOnCRu4o0L2wmf+XUpkbR/VgTf/XP/k2JHjdvFUaALEg+K2Nc7TBmUh6DZq+wU9ZQ\n",
       "GqADfh6xDXvFd8IU+WFSXqdm0qCof484Y1XG808XL6Fk0oMyzKZA7mlssNK0UODH4IKawqpenwxt\n",
       "r9uTYpOGSkKBqtcyx0FJ1ncIEINFvoQ6392vMJpEBgKtCzxrs1F36ZjQI4uT+9/u8fcxKXsv3fP9\n",
       "l34HJSfsefTMv85PU1D7SGBUSNS2LZOD0M0BZb4VPnibU0u/I8WBtJeEHx1exaSCvTZyRZRGSJOB\n",
       "FDWANPJW4/q+oc8Ytu73Ymi808o7s3sS8GHStdh+NjeezCnS0FTaEjCfFTsXUVB+lcglsZzMZLzC\n",
       "GqwVz6lpBtIV6siev/n17hrTOO2FhBvo3PxZC8QStRX+/JYCdm7gRC2VWRlp+uGG0ggoCzCJNL3u\n",
       "AfPXCEsDsh4xFpJ5vjpXMlreTVDrcXlfJLObgNxaMqEYJOhGMGO+InNAzyrj5ATISAXTECr76Mxd\n",
       "N4sHlobACrR4QQf6Uq3OzAdNDY1aW26czBT88h0wdTK68IjIz8935+g+fpWaoFXI4jEFxa6wOL0T\n",
       "KPP+c98Ja7YcepSbpZGOCD18AoeQ0JdRsPfyHrX8q4ItKXcCxmkicMORuuBUs+ToiU9cJrA/ZdCa\n",
       "rP3rXH2uNNOlg5H1sI+A8Iqr2sgolbkK0oU3psr8h2VuowgWpm3Ns7AsyLW8iISZTh7n9wJW3lpS\n",
       "Z0cAZONgqBA4UMG3QHqMyIOKq4KfTDbmJsWaqcI73nsC3/11+xEQj3IHliUAd2vB6m9Y2heJupCQ\n",
       "nl1h6fj4u9I2kwgajxKm93I3j3uoD0CBZ6SQixqXUE9pMcRXKQy1P+IScbeYShhQe+ByM8nsQ4eE\n",
       "AiCgjuxunnKZmGHrCQk8FtHUwQSX2iyT9nHSIagAXpzfINa5w5I/71jYG2ReW6wbOSiAdn0Al92t\n",
       "dnMCqw0pX5EA8ypC5eInqk1rPV35t06s4TD8lkUS8C3vgDJfbls8HJp0EJAmVzeWIyTAccLFU/Ub\n",
       "eA6eGhYctcAiDYa3Pei+/3uu8hjloWQMjl6ztw0CahPUdyLtrD+bskXzhT+tj0q3cm+5XDzPr1T5\n",
       "U9ucB/aRSqdQHjhChaMV6oIcUQ5r4FhHsIolmvdnuioh4IquZ2tZroBTIdQbKAGLJEuMSTM/05QG\n",
       "tKko8U4pEp1leHnIGke6JBdsFOHhFPldGKpGUZ3PTbZOa+GcoRTYmHcdoCTWJQtlyG7u0jmVaGJZ\n",
       "AhSXkzQRfG2bHadLBbFoFsg/Eyry117pPmxUew0+DqoAc/S5U426hTa7F5O+31jQOGy7qJ938gyy\n",
       "ykRx7rx/pwoKoGpIAu8AAARSQZqmSeEPJlMCCH/+qlUAGyoryAIQxNkftI5wK2jhGr/Yyrn7mcF3\n",
       "KJ6D+gxpO53l853DEsoSaeprUIn3cyvjep7n+NyEiShdzHS+oS/56EZcqsoX9LB1Aiaznizbaan2\n",
       "ZDeotpy7RCccn0S9pt20Slcu70iT+tUDHbdJm2cLYxoNe2/hve6o1Iq0ETIjHbCPK/Hd4Wz8AY/W\n",
       "hWchOPr+ciCdtoQUbGIZQgGtUuuvs9YziLVj9X48+ZL8JmC+ZdJNN1O7luFhUWc0froIxoZs7gkp\n",
       "nJbqO67hjIfHdtTfMVVfjZEpZaM02NxPedxR0twnKCmD8JxoJ3/cUwHfhfb/tBX+PD+/uhzqXoWy\n",
       "qv2ohNVwXgF1/daH20on5wcpsONA3+t+ggjzQacZH/xuh85K4q45+B1bXlGn+mF9djAK2EHqCKbs\n",
       "XhFry40WhALPRp1lTHzIuPRJOtu/zLf0H/40nzL+T4cxS1ZkTty+dr4jIQC4PkmIU8hyjPt4GvcE\n",
       "GsSkz0LFwNXk4m45zqms4f6IxWdO4EemwNMBYwz47pfmbbSWxnmpFrKIZCvD6KsvLVfgpbPXGoam\n",
       "kWreM0GU9vBSwBfvvBabO4kKuxWmY2YXWF2uiACrbvusZJ9dE39JDhPr+RH6syez6tkjAjlGPnsa\n",
       "1vBgaeFsQ/k0UNQhJVHvGaAQpV/p35lzbMlGHQg9uxmfrmL2IzllAalVYEixcRQIswV80Gun5B6u\n",
       "/kxNKz8Bezlrzrpz7dcdGkAN0RtQ3PKJF/rMwZ0dS8l2fkhYo4aA4oj9SPfD2yUDS5aR/zohCcoM\n",
       "2ponIJZefu4f7+65E6wYUk1bzbqvowUQjdi/mbf06UReC45j8/ZWwyrPEwKM44C8i+ymUMjlny6f\n",
       "md6oHl4si/7kRtLzW30XlL4VhsjG49nhGxADG3Q7pHOF4DRHr2ac5Q9mi7pZsohw/j5Hwqp1FJDe\n",
       "e33qphSuMG/4ss/oXCoFEoUnB1XPW0d2kAXcxJHwyK9+Vi/knMUc93b++1tKRbsLU/lAXTUkFLqA\n",
       "8ifrGfmlhmKSpY8owEEkwpPMpivYfr80GDOskjbWK/7bZSVG7Es+K+6g1Edbn2CNAUBtVRVmXvt4\n",
       "MLbVn9vPH6KiwilSkwk4iJTJbT4RX5BsbAQ6r+/qIEtLObleELs4NA5MD++tQpIDvzQI9UoKId6N\n",
       "mu1Yci6iw2u50ODrr64Pes9n5DKrFWomUi+3Aal8iTGm8B81BTYZc2xBgkuRG3dnkRP78GV5i9DI\n",
       "P0hN3g4eZEpFNvSviEA1MU7+6Ou0RsKQVHffupFcWhMaTyfZrzLzTjBj6MpkBKY+lbQo1KcFp0ED\n",
       "xj43d/4tHi2RlJPviSz9/Z+VDDA3zC/RG94WJ5t0rbAib1GOLXG9kAsDB296jY6+czPCR4FX6Zts\n",
       "8jXjrhMqe4tKVyLXqsy7YNyh47TEbGxSP1rMSBi7QVHJ3iAAAVlLHpEAAASjQZrHSeEPJlMCCP/+\n",
       "tSqADaBRpd8AN2F3ThkmOi+Lf/H3fiOz6Z+ctRTr2Un91uD79X9MEife9T/AgEVhPbDZhzMwDJU8\n",
       "E14+qnMiFhkqI7AbDiN/4EJ2afNTN9OH2YpRQN41L0HRYDiRWFJ2tCDAaaRmz+UNdt2VdJDPsVVh\n",
       "mJNBjama08OfWMxXI7mQG1Bz7FPRoxQoY4bTyNXrfvrW6lV7Sc+8Phi30k0/e6NFTl8ZKZTkRBhE\n",
       "eZkQlEK01C3w9bgeJsxdTtfz9FcLB8Pd3Pb4BR+2o3ftTa/18qSiI1kve6coQCHywsY5LeIS9+at\n",
       "Pk9AJjp2wDtdKSeE5N4hw4/JmXE6FEUmNSaJZEIXHFYnj8FZJOfTpVnOW6YTVTWEiz6tVofT2zab\n",
       "3k8IOCWdfVAA2QzSuif3lncLX0BXE5nzLbrntZbGNtHvLuu/+h2pwklQsNFHHbFaR+sflUHK35DM\n",
       "8CP+8rBXFqaP2AZ4SDpz18G2biEHkZvQwzcUMSjzJxnOzhLakRbcLZf5ZRn9Ycgo1ghjKh+aBNIS\n",
       "Wl3SiXjfYr2LCWu+x0q23/zJBIU6lpJr27g5PwapNtnuJTp9gwDGwuQKpgrQc2ny3RFt4Km7VN9D\n",
       "GCJrS4UWTxWdUyU0U4KuQOHvdOJiGEc7//6HriU0Fz2ilfcKl9qqvZCJ/IsVJR87H7mHd3hv7lvo\n",
       "xGNpS63xK3JgPT8WNP9SSsxAWP0qvM9YYjJyd8OPhb3Dnnd78r2WqEbbMI7Efhe5Hjp3m4fw8wrD\n",
       "ZCkgfusVN55oz5qhY8TuultNzkXYBSN/Kr2+pQgjVqRNEY/oRl16/3oX1tFxWpHlIjylwfS16lkF\n",
       "k7ZzkcF6mp84JVYXL2oJ5TFMFIZbeUzGSHw/cX4IkQubg8zsJA3kxqnNsE4KehyDH2SEwIeccOZB\n",
       "SWGTnwA0SDw27bxna0MqutVdECc2GPOaa/HA5l8fW7QEDZVJHDrDHYvLTNm8mfcHGyYd1UIyXH2c\n",
       "IffsjSGWbv43HEzGtOGIiDGjf1Rv+V1HEwVclpUX8KBYsvu7HukTaveqT3LhRVQpWup2zxs/jc7b\n",
       "hdNk++xj7yTZAgYTmXTG17bZsECWeefKFRjQ0WH3BA+Whie0dX7EQdogMLMfmfMotWYpByiIOyns\n",
       "zUJiTTsmES5aON51q1othSs9gJavPn22izllZV+yZS4pY7RcI+/8u4qy1Bi0y5WnhJap4vdpSkg5\n",
       "vYymv23Jv4+0rMiOnUkSKnYMYCqXa02l8fx6HpmvBcoGPGYGVKDQc5RYnqFHKPNjlw0J+OIuCPi7\n",
       "OoSSbSUhFiCCZQDGwGs2SbA7qHzxbo3hQ2PP3KFBr215PXQ3suakPfED9w14hQNheXE/Hr3dKUNr\n",
       "LTfm+MailH9sRWTUfJgEpeFlczbACm/rMBQyTL3JFQCCXLr8LOUQrRwBCHLczXk1+m2zhfQ7hbWv\n",
       "KrNt7RjFun0jGiGQVqJlSTqel+3CJKbrV0WlOMb/5sRr897e4y5ND/1+FQ2IlSiv5+J3Sk/iHEP7\n",
       "OBwjJ+Vy8N2/aG1GzfOF+rrn2rqSwHJ1bHKJK4SehlYYTpkAAAWBQZroSeEPJlMCCP/+tSqADaRL\n",
       "pRAESHzj4pa//DL9EgR1XPj6reY9sPg6aTzF1ZdHphPwEmQb5YSu/baTspMFaWXcynoBGxfWhdlf\n",
       "zzQe3rVZ0g44kesvadXjNMB766LCN9uL2ef0a5DRNb43A7daQTCCi8WKb1I8vFWh4O+ngFeo005j\n",
       "5BGR4Ixt/eEVuX8T8f1+6Lr6ViT5vwfLKQd+z67ollBgxlRrcc97QX4ZLQtHkl/pJIJr7pF4z09r\n",
       "qmZlmqpX8gBKMndkvr78po8hXznIEjHmfhIW/2ZOJTu+zSEOMBUXQjX8E1OwS7VoAj6fJCe1h0cK\n",
       "2QphDsdeDAfJCllROvN+xYu4JBd3iInpUMKP77RoyXInBcVtG6N0Y+9kTdAErv9qcgB0uiP4tgP9\n",
       "I9y4DWEfyMdoUYJqK9z+q/lAAC+GZ8OpIf6QtaDty75NqFf2WCAPr6onzWtT+omDCoKtpV97H3nb\n",
       "dG7Aui/ItSoInj0a6em0RK7LvmHpdUJpaYkZ6d6DHofndqvfKqsnuiB7yHvRT49CzBHKQR9e0vYR\n",
       "paY5F2xVbdzoBYGPx7e4Z0BXOoPiZBu6NpvHmUvl5wmXyL2JN7N6GDSBfKjxlLboc/Vyjg4OnMdG\n",
       "WZvhMaZUfaM9cmjaF/1KwnTlH1z3OP1fN9GEkqi3NGS+A+QKD78NOcTus07vJ11o1NrpZJ81s/np\n",
       "blDJzt8lf8aeiLeAXSrOUuW59n4tIjo59RwYPXQckgvdfD+1w+5ysDerJXQjImeZ6mrVokIF4pMH\n",
       "d99+5+ksoeAJN1Dn21TDHFSnXzYdBzgc6jwYUtIh4Jexqm/ZFjQHRM7nwGegm/LPGpmZhFoDg0TX\n",
       "7hc0gJhqrOQFGVF8uwjA/Hf4ONQUPn54HqZy2xlAbbysoPJfO3OCr2w05G62/kqrFdi5zxIqUqTZ\n",
       "WUwj76yZPh8fa9qboDjeEvNEL/QeG+vLsu0Y/04s4yd1JCIXJc0SVSdQF1Cx/2RFpT65fHBJ/80Y\n",
       "KOmRYI0uXxlpLv9pdgUKXGwdJ5Alz+Cv/DbIz6PwZlz7L9q3jvdp5s+07bPJ3EYlvoYNkMRBwAmI\n",
       "r7Dm5B6TaSY2cRbvwrS/lQ2VON8WmHbi6t3np225G1mZ0Gqaes3qRtMLOIuFn7oFXFERF79xgJHM\n",
       "DnnEQ302Pr3JtYknMA3Tqb3znQktYgio0A+yjWYFmEjA1rSD9u+G3/uSSVOPcQCGgXaVOdlJRww+\n",
       "c8d4o/u5dg7knNeLWs6IH88nthUjwRvpzSy+maAgbAeO5OBvjf1eENWFQ6HEbpbixnutD2XHBU3x\n",
       "lZw6gpPthnFWAIdsQecUECD5kLVDsHw3zvjrbeBiFhvwr9Kv4y55P4WKPEIBR82QAu8G1/RP72Qd\n",
       "J7YGdBEmXQx3z+dUHzMApfzn0FdFXEiBXLmshULgl2HYCdEXNMQ4FZaj7xXsY63wlvvtydbUPxmo\n",
       "dIT45ttz8Km40tx9zneQfb1oB/8EzBbhM3v/hR0pVhirVDeTpN6KXsHzY1t4guHTbd2ttAu0s2G1\n",
       "wQ5ZCtXa11bAgALvkK2nU/ccex3gB0INnl62EKGTecuotjC7MSUHQf4IA8G/hm7KaSTgM8Y9Tar4\n",
       "2Y830WYYkasMzAApYHXvzlinr2h5xFMD41HcCayx6SVf5pjjkPYTaWxhfRM7dHLcbwmN5aqx6ddI\n",
       "GsMcAjwMb9AnugJ7+jpwsrK2nlU1dw+QPMy6xYy/dRTLtRCEJdbQwu5HVlp+b9hqUNPBsGPGEeC2\n",
       "UBY9WO8F+kx+PXLfiWdtJp+5V3XxEciZKwmrorzBiwp9hcB9Qyz8/GUW2jes/yHU+rfB9pfocbwx\n",
       "9QOCpjr8n1gSQL7NW5Vknuvepupg3oAAAAKaQZsMSeEPJlMCCP/+tSqADZTRjJ9RJxq/TpP4TyHI\n",
       "Ux86ucIkAcQ6QvTanOifI727ReGZmMI7G4ejJsinVcVZb8DY14WQBrhGh7OlcqeuG7Fge2kNVTwk\n",
       "WvgL/ou6/N4DnDQwTdTxBgwYVqgm43NnxlOJ/TCdVluZ9dgJjz3Ppm8dLCBpOABhve5yOo+bVfMg\n",
       "Hldev9AVlcbMurJqHybGRiYW8qtBse4hcHmOc8GwddqjnPCjRxXqkLcWxzH2Y8pOwXTwmeOWel2I\n",
       "quLJmSMmMIz5AGEd0EDsXj49HEC4IRljIkmDcG4ezZ72cd+vkVwaxy/2d4ZdsELJXGKWzEW6o8Ie\n",
       "gTxueOFVWThaNm+WDIl9FiTZdV5WkFXOKgUQZAUiq6yGg0hw12UyLWq688Y+saC5wQF8+TFue5Vu\n",
       "GFqeSsxj54hbNLlg5jGK3DvikcOZKXf5mOXctzVG+f12Mxh25UJX3Txd+hGd4QTxadgaHIL2XAW4\n",
       "j/WMmmH2IRuwxvon2EQfoWXtR4QxSBPBxi/RygDITx997FQQQqMX6d4aX4dkSCav9MEU45wJl6id\n",
       "kJc9t3kTCraKBeh5vL2Rwk7EtlJ37kLWvYwHyPR/j3OIYSNw+C5svcFfepmW5sedjI3V5MYzcc2V\n",
       "sm9kRTWx7W5xZr5YqqWgr2CyFptQ9dl747m2NGnQyvQaXGVQBPBUlb7tJUmfEWV+uVoNPc2Gk8hb\n",
       "8jQZn2KXpV2fJcdYt+GoM3AckE6cV0Vby2jObu/NDU0Lj7pdkZKYvq9r5eeN6mFN4GcejtNfH0II\n",
       "zABs1tVqK3HIrrZl+KwjoNGh+5nlx5mc53OHvMEEs4k7UdXDTmJ1AmQHipexJ5UvxyJb4WMiSfDT\n",
       "MAaIybzB0JaEAAAEBEGfKkURPD//ACZRjfJSigA8OOb9KT5zTLtQRzSSfyf2oYFk29UDyQzQYFvD\n",
       "JZ9M8yvDKSJ07oepNNhhFnuBwe0e0hfqsF0KdMngVqcx4OhO627TXrXRGAlWB4PwYX5gMmLXSs+e\n",
       "Nu3aXjQq7VYSeqpwdIsxc8agFgrf9qyqIBY+QzJI+Yk7gJO+H5vjGtjsqYwFQlOqU8MYS+H2M7Lr\n",
       "TZ8oocuoELCs80PRtkWaY8UXCtjr63BwsRbjjWIgfvFWzzB/M+Gxwh85srhQUoNLPQKmtmKHfaT9\n",
       "btLi8uVKOuGR4whgUUkx+yPcVxXwSOhzvAW9lZIdGsJgmuARZheBwyl6JU/VvaAtnabQqHYSE+9P\n",
       "l130eKcoZiuGqEWgofoZHjwT6t740zxkkirTXYD7GD5n7lrdThnRIXf5S9AOCPkisaurEyARaqBS\n",
       "gzDjYvvjI4jmB0pGxise7hJvZUIufznmULCIvfZ0I2EVLla03zaLnZsQpLl3AnOZUJsqpfcal9/n\n",
       "p8f18aXtgSwHhK/vT5sSHx++egALrYRIsGmcY5pR5TffjQV9NN/wtsFjM893B7GgA/89haeadsQD\n",
       "xReDe4yAiviW8nsfhl0N2MuXMQmlnCG2Crq4MYYXEby7wcACzcxAUIwuvBfya3DCfvHeHs4Ewx7X\n",
       "JaGJk0gQQkJx4/Yn+Qd5r7tVex6cJxygUViuibuyYhX9G6huvhbyYY+iMorshCFn+LsfZULovFXl\n",
       "JdyAR4Hr21xct3i7KVlMDoUDicVKPKUQ2ZB8p5WDMWlOfz8Hsi8yjAzTFzuc6q0rKg1bTGFp12mR\n",
       "wxcV84+CkcMCstGj2hfI76cdDOCa9mEUORRaeRvgetDJewStVWgy3/JVavWv1O/kwuy+aSW7ylOZ\n",
       "ha0MDyVxqhlNjaTcS2GkY9dgCRVKEl7fzwJDTXpGdrR8YbgRyc9ibcBXGDYYrA9akacvAG9s+koZ\n",
       "WTtzuzt1Nj1b3kbJXA4noE4i8xFpOSOsKBd4ME+WB4eADlAlX0gs0W06nWHBrOUIXbrz/swskT6g\n",
       "YPt+Ts1ujyj4FfqoHMtOGkdsC7usUgv+Uyt//tKDWiFiUKGpE/UFSzkjOfEaHIMwBb9RGfan39U9\n",
       "rnU5GbwGNFlDhQPnCK19qtJTfiXyLi2JKTzvIXcQGFikbUdaXmcW1CAMl6/KaFuYFTcrENx5DWaH\n",
       "NzsL05FS8giexbaF7ZWPLjjrYlaAza7jgXgvdunXoKux+9cJWMlwVLvQYtZke1Jm7Q1XwPw/q/Pm\n",
       "4tAYAshWXYvsZvKjxAGJxPannrXBVSNxRg5hkiKjpLqmeKGK3vJdVasmskmVYOq+1agn0GzFglOM\n",
       "44hsD1UlrpTtH4WAsgJvAAAENAGfSXRDfwBVbfWRbioVWAG3/2iNa8fkQEKnCGvqqscdvuLTlYJL\n",
       "UFNetHSbwSxj7HTrNVy3/0nCOKteOhqkguPfbkilf0jknVS40KjHwgK1PGUxb+0S+T6X4Gzol5Vj\n",
       "GYJNT83VCscuKv71mLr7Uph10RPh2lYarZb5Td3SfBIMATalo7uL8pPZ/Kj/lYW8cAaYzhQtoeQV\n",
       "SIKlWliNEzwglJj/XYLq24/O2QRlCRb155EWVD8EZrowsbaB/A4jc9qn4BLuoeAsNXkVEucTIM+O\n",
       "c+D34+6pfyFcVC28/0Msh5i7OVXeIMOw0u+UOCCmuSr4XNzTcbOVTSP1RaHNW6ZlffLgQlEpHS2E\n",
       "oKoL8Ou+xnO5Mwz5dHoj8BvwZN+V/8GDn7rHiGshOq/cdR5Ne0ArCRutIfFUmG8ACutWu6H3RqCX\n",
       "GdupMD37acjYF1JKi72CCGa5s7lSVRHRSrfFzgn2IhuHlW6y1b+7HZ3Y+fUmDDE6zg5ZCEpwk9+A\n",
       "XAXRaJrsNfn6DdXVv7X5PCPfU/nXZtq+j2NjMOK4ppbCHYIBIHk5HBVvUAdeJMfQz+HspokrNgFK\n",
       "ZrWE+d+/+q4lzNh2oaPzb1syvSZXwuGfha2eTmBiHrL6umR9//rvj1nu4iRPKGcx+YoUsFpNKvrU\n",
       "3CjsRD7YyqHo8iPwhxNXOlEerbSxYqOAOKyULt0/C8lEA+8f/NDBUURpjTvP90hPHrd80vHqwwWQ\n",
       "giMoSnvZ0EbqvW1ixjOD1rm/EI3SHL/J1rrbauU+LsG04wVw55SYIfNwNkZn+j3bK54qZAMnkVqd\n",
       "SZipu7Pkc193BCa1/jyNapX52aFcGgZkc4ZhbBVSmEQwCeIhRzOiBxppOzWb2ZDCTGUJ/lRWzNOa\n",
       "mLPEJ4RvZPaqJ5OQ37/2Sk0LTwVurrbeHqPj9VHP8GlyEQEBzJT0Svtd4FIE0A1JpRbgPie9O9NS\n",
       "Cm/lbFrxMZGQY7koFQCvGzlfXaAuDVEndBYyRJLel49/Kdjh+uTtaxWaxHUoz2vojqmse3YgNz2l\n",
       "5INAcjYKrQ2nkVhf5KxVNG7BfzHhV7PRGcl4zqaTesf5PXI0FlIVPInN/I7FyRy3rr9hgHYeFP3j\n",
       "EviAL7M9I6J4s3SThE7yNMunwNG1MIqZBtENMR0dSf3AbNtgWVRdjA82kjIqFMoCmRAi7ehyt7/j\n",
       "eGc2/HrqnFu+1dZ+Hy/IHxGS4hpztM1dXZL0gdSkzr6EKRiubhyULHPahLS9l1sgS4lcoTllQ13V\n",
       "f0/SGIGbjO29SV6qlz7p+7HtEq+iQAu3fpQVnBTGwwMkcpUuHj2o5JPu8VtgnERTyCl5tPoMyKlX\n",
       "tS1vbmd0MPp1ySsuY3ZW6LgmQxH70HXI5Z7N1VQwgI+RmSkisWOvyJZMx7Ix/4ENoCzp7DQn6ti8\n",
       "yctBBi51tsdn4RxwAAADlgGfS2pDfwBVbfWRbq++F3AC1Bjg2cGwG4WaYZ5HLsyY2rYu/KzMZKAB\n",
       "lMiKu7GJJSkgvLHMmCzTxF+3d9EbGeIlljX5lh1bO6JAnY+4ur4bFE5lck3OO8iG88wumSY2VVMk\n",
       "hOXYJ/QqldNRo6XWUwQaGU7AZaGyVNbJ+loy8mmN+iYKOTnDXWMooFNOy3oEkhcptbDRHXeqjgox\n",
       "bNl2DVv39tJ/ehAUjJHCb6dLDwUMdxyZEeH9U86c/am1gcYIEVnPLPVvysKjQ3kK3uH8T2PEDkx2\n",
       "VlxETN96IkOw8TrjBxZ0gmC4I9LubnmyhSOMIpALxSx7PXXXWrXXNrjQTqN6mRsdOK1iAHZ4D1iv\n",
       "dokOX9A4xrYq3Rbel36sjFDUD6I2vssCIF210fmJRNPlALzNVYFx6fs6Asre0Hs9p2psa4XIls+W\n",
       "2FCy2B+EYtvEZuunIy5Q5+dsezLLsve/kV+OqeTFnCGrZLQ52ODxVLghCnpgW0+qSx7VBGRjuafD\n",
       "jGHVK++yclqTZx4vpCScfcnfle/i0RWWmqy321jHG3vw+S6TcSaDYtas0DIUxhAzTmbsHi5NN9dU\n",
       "iwWD0dDpUQRNBG+fjTALhoxGgULDfHB73nuqlQE6RRpo9rvgaM7kKIJXV/2UGl4Z/Cnilm+gPXGo\n",
       "kVK/oQWR0TgQrNY+Sm0psC9dxE+Efiqkp7Wi6WFF0fmlCQJHRFLo7TvRGwNMTvzWQr18I1biBx14\n",
       "bBwD6DJvFHC9lHxClJypJXDdc0/C1hg6L8xYqVaPhpqBxL0FhkqDf/BnV9raJ3PBl2tt7AEfwdFA\n",
       "4jZo3MHOC++Hw/BGYZxTM0eNvjXA07uXUEM3FlGCJCbLXYzqwKdSvGHn5m0QdRWv1LI9CiHuNqPl\n",
       "ZO/xXAyyHoLxKXXlzVQlCzGNYdFbkcobVTboqC95BnKR723+yDR5QfBL/cUhDzq4qVTFVo3QsejL\n",
       "KgrlXoexuHmJvqcN8nUktNzBbligyWQGqEgfBQfbt94+TEt8BmbHV6FnliTLK+SxtDv2WD3vAieA\n",
       "FN9YX9xELTdnYlfbIxySzzc3aSPPlsswRmp3PVh+Q+REqRmL8l766F5EmvkHU3JsTnAKad8re80G\n",
       "FzLgtWjfItqlZfp0MDIRbt8hs55m84ypix/lAuV/ADhwzN14R/CEMZkmFTsJMqpyvqCWzmm7Lc20\n",
       "7rpsPMYN+tnsEhIaSyFoCloJNgOvQAAABSlBm1BJqEFomUwIIf/+qlUAGywVNABtxzsm0+QOPoSq\n",
       "DhEi30TteQiNXlQ2PAyk3P5C3rvgJJMWco08l2v09rNaAGBt9sLotLyajVjb0Yzwqkq2VIz03dh1\n",
       "2eZCCZNRSOOwEhg7zaTHKCBFauocmWOorI3xsnh0z3o4DwMF0IboQPWaHguFax7WVKlJFGov4pfL\n",
       "qiWF/aRtYC4KjmvWweOkbwEVY6Yis+YEG4eZvv4gYhDN8c/hNPwHWr7vIK9VwEQTDwJ7qKQ9ZZY9\n",
       "pCerNG7bzuLxG+9OHksVjEZj8R4pYk5LtCwMgUjT6joFrIzjSzsRYNeIntwMLPuTF+zqWBSCX5ur\n",
       "qCLhaxOxHblEdTeRe39hc9LjLPIovm4biZXcndppaKaz4kUIPqsoYHkeGMb3lKmMc6owhPfhQFzX\n",
       "y+rfflu1wTepWrGb4UDfC7G3R37JhazKynx8Skrzc7yvaPuPDKP86jbjtYeLisxdOECpbSAfuOcQ\n",
       "xGU4H1MUZQ6su80nZib+iKUJpxqd8yQn4b8UeFFTFFVWfWGpJ9AHNvfpUSCDiB7ns2b3zS8slhcG\n",
       "oHHWDdi2z4pqCJG31xLHOj6WTBz5VoyKz43RamvHeL04R8Upovl8KIX9zSLyHxUQFjWdWqsuCd/7\n",
       "8U1sERqqo1lh7zZLqkJJhGSSomW7lziHbVkv82Z44OZs1xSTo7iWsJHAtEE8bbcPl+D7xD5FeHid\n",
       "R+vIcdirceCKio+3zkeQsMfP2w56WV6m79o15U29h6MHdq2uk4ke9xF+58pp28vc1d0IjddpWTCx\n",
       "0fcN2TOn8K0KvDmkIOZPJVKb3aMobzho+uGJPHWA51IvPLlfAWp1MVbRiStR18GlCgbvs5sG9YDd\n",
       "Hufqge3o2oIy/tAAQ1mEDuVSDsAabgE2f6Eth2X19yxaCjJTLJfIlbuRUZKqTIQgvpn2biOPr/Pp\n",
       "fe9IbK49q6tai50AtzxloVK08T2wcH40/6Js95g4iYrSksaeBzC8/HehB1XLhqIvlhzITqsyTSr8\n",
       "ezIC6NP878Aq/scA629ft150H36K/myyoirtnFuZjpbN376IoUA6+hHDPp2b0SKlhu0VBCy920W9\n",
       "pRa9RRk42zBsTfEH6AHxyMlqKO/0NXtzwIUtFIj5ROKpEy+9gpp2ZE9xgQrDxR4O1kFn4KDCRo2n\n",
       "TCmpcE980IRVEVdKgw8qSkIdrG9wa44bjPLmZFe4ygqrdsjpB5XmMSrv/WSAf1qXjj3nJhgjx//Z\n",
       "lxJnJt2iHtn12ZpUT2QdKyzv9c7tok+M1Kyj2JtHj9TCIk0v1lYEZZ0dPr7h6Qdkbf16WSJBqyvJ\n",
       "S5Pw3xZL5UbYC6u/ZyJZ+pUHj91o5coAMMAYFvtf2kbOyUcmoSq4nHoPE+Xks3Y80TfZ8C2Bvk5c\n",
       "9rweOcfZVwmTbaQIw4tUQJx2HDxT3qXCxTBazKHrHTwB85X9Ysd8dn+sH/Hb1Iqa9ZFIyayMM/+L\n",
       "Sw84PM27I7eJoO/sp/DftJTKGN76l2ksf8SPeSjb+W8cJJzGRPVIkbufolwMOVtHGREWGR+U/wsz\n",
       "ct6HwzAs7QzhpgUUs901cmSFAMPCTWp7ehAnIenIkzyU6K7FzEc5x/3LyU+vhyuzRi81QWgpsPlS\n",
       "07mRnRGXcnWq/n8H/Vko0x7+cCCAZu917/Xm+DLJHsCv+E80Rt697Hb3Ggu4XrguyU61uB3ueKLy\n",
       "Xbc1H4zGrDiaRMFi6P+oDTx6/Vt8v21B5yMOsagoq8DdNe6BAAAFGEGfbkURLD//ACZRjfJQCAEq\n",
       "t43JAWP2g2G+iksZz4STQvXOUay0m96zi0fi8QcxuXr2MPdOzPIDqLEWIHDk6Pxd3xphc3kKdDwL\n",
       "XIVecakfdHlD2C8jKQC+Z9Uwi8Bv+4NMIOduHaOl/sNPXPLF+vqaPnSw0FKdO92JIG6U6Jf0NZ/D\n",
       "SdCaxw2OqnKtKIKeP8NBkXCAYVYX7HxiXuNo4bUTcVezZQ8TH3u3WGp5bEuMG92y76fiLmdRYqij\n",
       "JvaPG6s5Xh3uMepInwNmqq/DFy7VBuKtbDG71z1KDbPlc8pCpFGR75B5taSaQaKM/erIFihFbgWp\n",
       "hHme6wiAMXqgkI78yLxvKhIxvxPxgMAU9kZFyC2gpVxMdfmltahTPfj4aMysGcTpV1LGAZt5UgzD\n",
       "qnFu6Ns4lXracRyriBwWlyL15QLqD7yyN7n4bMS2A15cUDiDCy+9MMRTPNwN5f6t1GmX/aR/S79+\n",
       "rZBrrBY+jX+t+7A9jqGKwY/Ud8sVKCysKYLKHXJNvAJ2nyNmkj1CT0pWMazCK/w1G0cqEBc7O+IZ\n",
       "n5ZMl/qGsT8+mgXeTN80du2UzCYy5NmUtKvg/n7QvpPN8as974cs6DNZqGa03On2bCs72zgk6Fjs\n",
       "Q48PGgW1dpUbJlgVb+HUlSj33YJqSmTV12H/uINWgdE39ziGK3jCqO74vP082lSLH5V3swq4nmbA\n",
       "H5EXfROFiibCnHDzofmSMv/dcCZrsroDRvOl0qTezi6b5ifMXwJzDz1CHOkUono2TnWXpnfwnwyO\n",
       "9NJH+XlfbvhdOGsGR1vZexCisQgl+dEfsVmhBiuPqSh29fCdcabE+OEG7mMMM9HNZnTJQT519jDB\n",
       "WXprzAUsuTTYumdemi70+HfUxnaQRbDFPvBR0e/4vV7+E0JznqyIRinQMRUjIMCUQ1egt6qT3mRT\n",
       "2N8bxJVu2liRQJdZU7LKASnauG1OnyFqM0ZnA0wcl5kr7JnlI66sjXKo0I4h8noYr+5k/+BRENjf\n",
       "VV0O/F2GDGS3BQQZSlzCTCThczeNSu9wgtp8AdBZdUMsWMViMonGgqfw8cqJyix0zlQ+9d8wNIz6\n",
       "b1kWQyacLZXNu/SbqJB6DU4B8Uf6aMqkfBfWYqQaSeF9Oox0vLmXSyH2h+m3cgZ4GaQQx7vftTZN\n",
       "cVxsMr0Ltb/9dNftjuLUJoTJKWDWbH7qsdhnYtjP6lo0QM6ivmSjfqmi+O5dueMpljmc8LEhNHFd\n",
       "cKbymdY/UGo51V8QJNjR1cVM09rRckJ7OkWAA8e81B2xOjGMBuD4CZwC68/a7Iposv68GPoBMXFs\n",
       "07ywzQNZ00A7PNI85XMvefI22KG5IXojNyPvXGKkQV6/pLehp51sTEMDdgIKvQGx+E5oMPN1KBR5\n",
       "XthmAgtD7NIAx1byFvlIZrkAF1/KN8vEpIqDcTeA4xOmIVAeVxCbC9ZKeO2BkcYAz0ZMjWYt25DF\n",
       "JXBPGilc55lWDa4LgvKkwyupFAUe1G4nu1UWFPM2rdO0rMYhLbSbur6sa9iTZjHLo0joe5ZmOsWb\n",
       "g/y5YERHvWINzmBWeVIWJOrc4LCUTFIxkHvrQUJWIEPKAsfqn271XJUoV4laUJYD/qNuy0TDoUL9\n",
       "/rPomN90gIiYIvdSGnsSP8zdsQZtwCK7bDVIt1fL1nASYRIKOOkUlJjWCQpy0Qqoc+rUhM3o+nDF\n",
       "bHz7XgB6O+X9tFRoTVkVj7XaDQ22Z8DoxwuYy2NphNvRAAADSgGfjXRDfwBWWMcB22sYxHAC2gt/\n",
       "C+VO1NBfyG/qVWt6izvQwxdD/uaS2jal8Y9m2ZxAmnpTe9D0clgW2Qkky4mVnemnDRnKHOslCct6\n",
       "YphV5kqWEWcLS6poVMO3OPfgRTXeI4l0g/hcfoixrhY+FfMz8Wg/bm/MPmtPqrpaXkjkmmRMoZkv\n",
       "xyuhq5zS/8l/Zb6N3dlvagC1LHMA+HrkRbWhEfK8cKpDvorNczASAf4GxALbREhpJ/E+moQF3W5n\n",
       "DJONPlems5i23gBxr4wG+bIGtiwo6soUmkGOpm2E8bNoz42p/kz96Z+/8CQswUKyIKxPPKGNEibG\n",
       "wokBoMQMCmWsWxBgsCXGSFMBta1M2/1WZRgFrjEmJFGCrSk8X7VbUkf0tOt8KC64FbHSZUaWxmfp\n",
       "4Bf5oQm7ftGeBJ+6/jOzdj1UVBArGh6GvME9qxwUpsOasP770ftc3hZuTOfbTrfz65ECCRlLKgz+\n",
       "opt6LTy6rlW+p0wXXzHQiMX9eSmK24k77ksAB/FAbuM0czEMdAZKg8aZUtdPN+ozAq7fArRllmh1\n",
       "Rh8mUwJNSINjuBW/x4EwkkKzhUXXlrT7K/f/iAhKOJrr+eXJOi0AK7NVWRrb/Zqa9ijTt7NGQWZ3\n",
       "JWx/2RYWBURi8kV77scW4gaDgiaCq2/SCtwryR2VyGq91ITUFJFdgb0XeArZm5YwEHNJBIm4G7cE\n",
       "eNu9QwMMoI9MCB4OcpRQ46p8TWB2I+UiOciM/uCIKJGV49KkOlK9dmY73lxsFTb/IIsJRFTA7z1g\n",
       "XUdYQxuFW9ca4m/XTemgSDHWACgE7FhWRk6r+82kGY0I82fEPobPF/3DPzr5yB6rST0/yu1/oOpi\n",
       "awSoSXoa6qSiIj2g3ZYAJdvlKLMaVBTgZsN3xJgBgdqSCTUiKj06iJtIyUo6ocgkpjvg6mqpA4Mi\n",
       "pUyKVkgpX1bzFpAnCTkRmBziMH8U/NH5+YqwI04mpfOTJOyQucx9kMf3lHvGAvSFHh382qz40hfZ\n",
       "yTrXcos3MVGQjcCFaY0kUePWxwnlRx4wAoRnjIK/R1rYJFZJsDC1tr4xbT5igfRoa9mQXlOJ0osL\n",
       "8aVXYL8hAIsswVM5OLuOA53r3j39LhQRAAAD1AGfj2pDfwBWU9rn8sUvACVW5I2zajzKx2Wydj+B\n",
       "1xFIDsfQX1VuT13qB/vYxFAHMhCkSNm7dA0qs1JGbfyqSkelI93cpWl+dAe0RTucMP8Pgk5eMBQ8\n",
       "SL2XgS2GtMJCxU7utOJFEaQwpTL3K6cNe18pG0vXbrLjMATUDmTx7x9jzLCt0auyFjrGelmo3H2i\n",
       "kAK0AaGCWyio6aovFWzl9pN97pq2QJ4XCCufEMYM4+mi8lxz1iloT6IuytZ36JyOIRy3MN/MkXly\n",
       "XQXkPUsanOo0kq2wTkM72Q4VTSnesAO6Xv15TepgQIhY2JSQcsM4OmC4oCB58UCXKFwO1GAvMZCk\n",
       "n+PS8Otd2JonZIWQtSC+Pv00gvpBv1LPjumGeDZlrJukJBHV4wXH5+d4gIRrJeCEvE3QWCeoPdSq\n",
       "a3F6fJe7/WePz1GO7jbW1USlmYNPFVwKclSPTONebnAVDg+OGE/mQKHdGQQ53pU1D+Wt2zeKAu/K\n",
       "w+RSOIPmzWCbtiN72fVkcSyCNxq0GFh+K7BX/WllEh/UXvlpoqiSMFSMNKjrwfksmdJTW4rmOMwT\n",
       "BcPCnVReYWzluRVuFlBAtzi9GKbQfEf+8nQUPhQWoXcYbpd6gaOmxvuNIcGq5KNcG4BUOtXSvVC8\n",
       "diZ8F8dtCmraAPN5TvhP9KWmY0HLy29pmo4rPHs2eVxO7ifIIowdualQuMK7kQjBcK3zq43cfcVo\n",
       "MNqonknOd7I/8A0mNU9ZwzhjlLd8EEyW9wDn1hor4RZ+8BLLqyYnvS/Sqe+cFvmXn7pJYZG+7JM4\n",
       "029YIIB1+Vl3naX1XV2ceowvFa3YdEdWGEBiDgSEq/B9+hfVz2wdUCFnwSpZRRlBqFGTJ/DJcP0V\n",
       "IzkDHyZjURWZYdwdxiS46EW831jrKT8LLSsY2Jbt4NdAJo+KQCQusBv+VfkiY6TjBAdaiq/8cMrG\n",
       "mRXQM2dVof20lusncLbIzo8EY7Wk4uFT4Avu1/pQK8UVMv8fVJqga8+dyBEECGYXo8b1UP1YLs2t\n",
       "RnF0le1pa6vQ1uPxn0V1m7MPPEARZZVq/7+6AO2uPtizHss4UVAvFnsCTMH91+3aJJueBEVO1c3m\n",
       "Nj3iBbbuAP4H0gbXmEJm1W4iRKfNKq0aYKodxLqrpVm5W2H6vADcL32Ewfp9o1bnGSAKTwTBVjhF\n",
       "DUstsKkgxnLs0k4B8b8RxxSugsqDEyBerbe5WYlIfhtipuGEJLkXlqLcRUVLV+PRgPXu/kr7Gu1U\n",
       "0Wuzyort6cABOnlAmrE3loKbJ4dv+zwYAKGwhav0c3YmOXUCz0LuAAAC60GbkUmoQWyZTAgj//61\n",
       "KoANlSX1AAt1Gl5aQW0RMBMSUGJUUm98Gd5k6LZPyE6h7wkKl9wkVRDRjgvjYLiAFZXRw/R9/E4X\n",
       "gTmwPPKIsqWbzWzp/zkC9rW9zuRIJVRALhU1wsRQ0uLdR3M3wlzIGAVCJf2zm/E+v5+Rz48gJ+N3\n",
       "bm65hWY5YOSWsD6sLTGEpiwvnNsgeKbsdodEeWkPiT25e9Ww5dmR8wLvRf7ui0YqGAko33bCB3zE\n",
       "yFE7nr6eYvVnJDjiVlLqq8cL/QunaSlhSH6yPGYs3MGGQm5OVAcV2EyE+T51xkEffh9+EQ7FFjwp\n",
       "S8Wm5/h7387sUFe8z5s31E5Jm++cINggfQ18ATh4qhypmq3H5oM5WoQFrprc7kdCUKfWW2yy2Wcj\n",
       "XLyVffk2rhkUMtVRu1nvCJGlCALQQZ+FJ/HNCLneH43+8yFLDQX21ld6UxLvaX5WAXMZv4eDB3I0\n",
       "d8YuZaeRITkCugfeKINW5hAK7QRIb7uz6h/nvvK+hVqefcZ2P/dzAPahEkpdsA8anrE0HX2RnvtD\n",
       "S7G1M+xi0yZX7s2xCPjHqVGonqdnmBwIdggf+oqry7NKvhO9Go3O6ShbHnNtOy3xz/6jVD+CNBvW\n",
       "h/veVZr0tbmIoeY7HEjytXHy9gDauwC/Wi2xyX3/LAoID6+BOp3XzpP7gGkB5lrxNPrQcgjKtADp\n",
       "EciGeWohtxLqkDWkiVAV2MMzxWpCPi8Yu1eF2KSNpfcrdBpu1zCwMY1asugkUO8gkoLDmDhdkFfn\n",
       "AH+vBL9YdGfWq1yiQPOVdj9qpG4dPC1VWlcvlSEuOmoRIR307hp5TgTO1SJ1MMstJqnAcIXTluHb\n",
       "5TdVo97O8IXWDAFNO0fPaugyYI6IZY/6gePgAQIIjwYDTYibDp/QMmiUrD4MzgDaOkXgQkIBDXtC\n",
       "lQg0tOXg/4f9MCInj3er2wegT2prrGfhCZrw2n5OWYISumDHh4C5OEaN7ilU/Sc/NAAABPdBm7JJ\n",
       "4QpSZTAgj//+tSqADZQz1jn4gBZ/okn+upXE4NgYK9KlF+/yWt25kMHTP57iYb+1VUZvK8yp0qQD\n",
       "MCxVYd4QWOjvoZmpO++0uQ3nRYr9Kvle65uC5T6YNJS94YdDZ8pv5XAd22tFxBomvpbNg/7ZlDwf\n",
       "eccGohZPTVtI5kHq6zhWYgfIG09UUHGw+HfrwirDghx6Kkh93jsfBkp8tZ8WW5EQ7UJqi/s4YVnc\n",
       "6IiPFAvawyJJYWfbgQ6oa0ll66tVm4itPAV709fu2t6Z4zSBO42k1njHrQ+Zj7nm9D7gwh5WELf+\n",
       "9XmQyTTL5yYnomVIt0eE3GrZ9s4LCrvfkntFqlWTwwLjGBZqkMomDDsDPMVe9wKoE+nOSzZmphRI\n",
       "FQUMqY0mCxI70Wb4WlX/0ncS7xZw7s/wHEFQsH1E0FT0chtYN5KKv3QIhCScjsRRgONBs5glncEM\n",
       "UnRPBVH9j4k7CjLYyJb8D9SlvoogZmLrZQ6tMdhKtya4e6I2f4XhA9JZCgbAsv+FhgqsgowfPoeJ\n",
       "D3CpUI8ErucdyjMFAHd1Y9m7ByxEbRaFiEZ9sXedFyvp0Ag3UW52jPn5vsMIak4qd66LzBJIXoCA\n",
       "R/1l++oso8ZRilZJitJ8R65utqhBreeBFTDS3XdkQ6iMC8rBmRN4r1XN/2pzkhkvwjwdTqQTrf1I\n",
       "H/ZDPW6DvnII4oci8w8871m49jCRsRPtxhmVtQlCpi5eeJal+8//7WPrK9sIJYZmB959HqxkjIMh\n",
       "gxBzGW9uvMpNaj0+ii00oEh68uuy7ZaeriTKdpT3ysIJM5Hlo6JEajJmeh9GUtQbPnIaiuMwT9YT\n",
       "0EWH15qttR6dogmo5Q4INt+ofy1w0flCLYgjVAL7jk+nXyFRqNKgJyym0jA+DHcZJACUvMQOrM8R\n",
       "WrUGFR1lpHUeHTC0gv9g9tvO1Iw4wPkWX8ixPFj0UwbwLbkioK5g10rc0ksET/lcRZx3wpnzBdYE\n",
       "Alew1Hv8wKJKuYRDhGMAmf8BHQSCLH8L1bjxO0X8YREOln602wzE7oZBgttujY8Kf64UQp5Y1g1H\n",
       "reAU0Dy6CMqQtAZvFou2wwKQOdawjFFs7Gw95HZmfa3/DZG9w7NFXn0+fvDQXnAeY/rxJgrumIyG\n",
       "IoZ81eVjH+O1VIYopKcLfBu8M1PMno32UrpUWjYmUHRMWvDcvZGnwMnL4wClDVhCUOvOJY2IFY++\n",
       "/+SaGFyf/LzeNuPceq97IBP9nDQOuj+Cq2U16qcmK29Xl+blOCGLmhRM/XER7zV8i9ru6HTCnAHu\n",
       "a4pc8Zk2GB/i1VNSlVTtyjaJOIvDJJZf9u244Qv3McTLCZ8Y7G11kB3L9TQdNQ7gzxy/gl40aiAI\n",
       "/WSg2TOKK7LWxZzcYzvjizcg2xRjYZ971XCPZxOoJD6RXq6vxyHnh4mhUWybY5bIw9YPkyoGqMrc\n",
       "yGPTsTZtSn4cWCOk/5fXyeRiUkO4N2nLQ//F/Gov9Q6JSroThHAWjkoAT57pDVxatkkgTP/ZxlhK\n",
       "jhe/IKxe8HTFQZDAHmA9q6CXO9n04QhK/ykHrcT4odHyht3FP/xNk4t8hZbj6lgwUEOL3yHfsnlr\n",
       "PgIfrVZQOoF2DGqyCrzZ7EPgOhW++ir35J7gHFGc/iiqtRvutHNUZ+kz//D2w0sRxvWamJvpKTOw\n",
       "4viF3kP9pkLh+/PTgQAAAhtBm9ZJ4Q6JlMCCH/6qVQAbLBU0AFz/wymubVDh7JQyIHWkohBP0K/n\n",
       "48FMwYTfR5cpiOOke28nGWHGiZYrj/vBwVGtQvG9A3KbCKRrEnTDp9PIqWo2ilgJjNotaCL6MGfs\n",
       "TAzta+yUJY3LKqO5Du7B23Pf9cVKHhHpelt1nVmYKJAQPZf04EN0TY7azpU6jgMvfiwGnIMNQr0E\n",
       "06Wf12Fg3TmLRbHzwrEejDKwOkh4/bvELrtUC/je3b4JQcc0lI2GgnjTBZraDqUybbX95/w0YCjR\n",
       "03etB6DrNjwnKl/TzXyHhxLCd/IkysKv65ja9cZ64ISnMwqrVwVNDyR77c0taKTgiT7nAWIxYl1p\n",
       "XFOiyOE041PKpQGd6yr45V2tQQuwmZtL4LMl70dLKbbL+L3s07i4QYtLYKlAyGb5dHPtZbPx8dct\n",
       "OGXoRVYgNL74J8ogQwtwkR55BovNwl78iKM5NtGk4D2W+tBZpxggGE9NygoSqytGXz8ohoo5QA9U\n",
       "rqcxWYETWgqAmAP4oGaYWjU9hq6iKKabxd9chSVHhuyyeylyvCV2f0d9qxJ/BGpORqkUjQWCsnnd\n",
       "zPaJhEFdcMSqXeez+ddUOwikRabEKZLQGyu1xqOsC8Zgsyh399LAdubudmpedTbOIi9Hw2UhJujn\n",
       "Ei5/5Av9hZg49/K17aNrNHIV0D4s4B0T2KNBJ3iSAzsJ4byPxDH/OP6j6gAABFRBn/RFETw//wAn\n",
       "sGuOEaAKc5XYCoMtvuxP6t6bjMXBs84C9BPg5/epP3AWST8R+ngCaGm3vOMpPOCUVEC/6iW4PLAV\n",
       "2qFijkb/kTtFdOZMEakn9rrb2LWiPemCUKr/U90ASh3l/ghxwgZQCsHG0QZULn5kWMuVa0r3xG+O\n",
       "wuSTULWNoSxEx4H7S1J7h2j8yzbbX52EWzg2/8YEPoN/1AA8WSt2+ZERTDBVILDprtN3PNq1mfIQ\n",
       "9GRQSjr8NVhQOjtKg+dxW645iPCBUG9/zGh6manzT6RjloO2PRBrpU3YqzxfVmcRfqlaEA4uubPr\n",
       "dCRHYW1wScfH4AAzO3/osYaxRmmSRDTiHDwEKNRqiHmKIy4d7WArbx6hJu5vdar7qBAnH/qB2jUe\n",
       "EYfkTd7MPQMcjw1J22IbVr5vcTWsIXRKNrEXbpNImaXtzJMbLwtYypKRxn5Jq5XzdcHd4ZP1u99P\n",
       "iIcUKfsW7xWWPlu1kUBXjfcExArAZnwkbs1mWI27ziHiBIJZbjGDrHdBCOVmsa0/CxfzfNglnGio\n",
       "RSz3VhSVC+hPHdBJ0ykStRicJevdHo9qq3UnDm4/42DMcNh0N5Eezj4kTGKjPg+qoOFyyUeWahtr\n",
       "c8R+c9t0QX1c0JQxwUQt5dUdhSrdUnUNHGlhf670zputguk8N1qqWbfvBiz0k+1+1xdxPxx1wq7R\n",
       "P5OfmyvXZ4LNaACukbN08qx6Un+ZTLTNuObW001XV2/U1SUgSzqCyXAkRad+ge8KwNx7grnJgThw\n",
       "99O+l2xeeRwi6W4N0h98i6XcqtlCESyl2R3wcvPkSNskZnZ0h5NIaSPX7hJKOxqv3Z5D7S6rGlP8\n",
       "ltyIEkbjwtT06buntT8/KueWLTHE+itLhyxet1Xj7BxGLMfdVGGNJ8zjY+5rrZS+Nrj+yiMUE+0+\n",
       "6tR7a5ZB0p09R1Y3TbkVPxu9Glsj0OUsgFn9knCWST9eCNpd9afvho3igMC3yrtUx8dJbKy89jdq\n",
       "8mh1XEyQh6r86xx5E0GA5qeZa9m/1Hr3qNBfL3FkGLNwjQlz3j1yUL4iWTYv5BMsQIq/JGLDLyXg\n",
       "xyPGXAuT87Sm1cZO/aYoG4CCrdNLKHBE4CmCKd8mCgmZSbz5n2VYODRN7M3mDXZzwzDhs4JcassW\n",
       "8Xh2BT/K0RoPvtm+YFt2Xro2qtZeK8S2PdCBO41Jq+E9gSqZiKalSETzwYGMRkR/lAtI+oxbk6x5\n",
       "rg/0YPIxhl+PLLMhw8UKC8mEq95/jRgLLW7ECXEcyp7RaabqnpGlb9KKGq+Z46SyLyLbVYsIWnQF\n",
       "MDqJO1YgzDFNLTi4lfzwuS+hLyMdU3wQ53Ccah6KPG7mo36nCKdL45wfFBZLr5x3kRAzCFJkGZzy\n",
       "omVDaO+pQTbqT/8FsXUNCV3/e3svynWHv7fqOlVNZMqHN11jQZjjf2vEENAqYT4AKVwgypQnBlRg\n",
       "UuQ4uGcZIOtZVQl0ZsDAAAAEAgGeE3RDfwBYomz5PVyQNALXgBt/9fxGEXP9jQZjKtrnZYhdQhVj\n",
       "jt9xadId5pWBTlaVEF4JKzY/qn3SjAEEOi5NYMBznxw55nJB1HkpUky5fre9xnvzfHt6YrdrcNdM\n",
       "+09yqq53JmFt9kKwCMah6tCx42VAbiPSkuGOxnu4OoyqkOgjArj59rGzC6/gAt8AYSHjCxN0pE00\n",
       "+fnQnhryZxRj6pJ7EydafTXI3ezwzta47UcQ84KqqIapLP6Wv8w5i4chhKxU+Utxt3/LDRf1a09U\n",
       "XeYMCzbDKikLzz3Re4kYh4B9E/vTte5c5yewRF4jGLBR80SWWJ3fpBf2sTCTdzyOz8wEc6B1mqj2\n",
       "Y7k+MXcPGlCCzHx6jIem5mAJXkXv9A13jYNxpQFHitB9vE9L0HEw14lJZtHKrMsT/fu53T90ddRF\n",
       "rOwBARGhHFgotMBPdqGe3dijb4i+VGt8tV6L6MAJpN0JLPRDupJ9fYiUkUrCKdxEGSDNHSTIYwCC\n",
       "lbNOfhZxnDUDXrIs2mTv0XjS/4JIBNRVHld4YJbtBL/iHBIqdvmX3PDtEusuXkZ2sOzwp4v49gfa\n",
       "h8RdS+9n3v3irTw6Aks2zzzg3JAaMmgOJ0/BA6TXOK+JNIcfzjLpZeLp3v2dW0q2GJng50g7MPOA\n",
       "sBSyqirF0CnnbDt3cWwMiFpbqUmKLgLJDvK9QM7R5eiwsyw3ue+G0u1uRdOppTcadfg4CGcAHRNX\n",
       "Wh/3FFzFcJWGA2r/n5X0IE8XK2gtrS+15E2+Pm7J88Pv27sXgBUIdi9t31864zQ6P7bf9OZAXJ6W\n",
       "z6M+P7dRwIJOC0jCyWGAyVDff6rnX13DxfZzbNfmGZwTBYMJRtXWe1+O0qOCQwVl7dwruZNv3ZJn\n",
       "65W3apQ+WFa9hV961ENM3KpLZzKFiB9z223zlY5XOY/0h5bxxeW1h6BuSol1Ed6rF9b9aNgUN8Ox\n",
       "k3Dq+kO6MpuH/WzW8yynJN4OF+Um1qbZXsDVa8UyD46wtZMbfU0o3twicjNLRNra84tJVs2WOAQa\n",
       "d4aRHnAG82Ag+9Pln2e3rdRWCVNQzF4fUxhZCEeVhLzMSz0NWPwBhdwc4jMJb2MVQFC0w2W/xYYp\n",
       "nrf0NcbLiSHxi+3D3Zg2yYA0qLa0XePQYyJbED9i1nKF/xpzvwpkfw99QTp1Zh3e0QSGGVIdzh9T\n",
       "07GynWQ1dNlbo80+xPw4Y3el387OFgNvqkHytSnZwrtDbiG6LS0rMfh6eMn9tIEgmKas07TOCEXb\n",
       "/ZKQwBC09KsOB5o8ITOC9CUwv8Jj+U/cii3AOnohlsHPA0VzNlVOVIJh3bcHJRWYkeIzti5s4/ZC\n",
       "jx0KGfgUhDXnKqMaW6G370CcuQAAAs8BnhVqQ38AWJPe4p3bCea7RgA/n/66GIUnyhtsidE5ccCe\n",
       "FmmGVjtRYMlf/VjVx9mjPZTt7c4hUnSXtC9+Wcq5p3uXFEmXkr/FtzWP7gP4TqKH9Ve04H6gvjKg\n",
       "Ql19Wi33FgaXK5YcP+GqqSPNajXm/9zUstN+xPcitS56PbbdYdp7Qa+xI3/DKZvwA6evPzEqPedV\n",
       "TljaGW00mYzJMIiUhL7sgPRJR2Gs+oOrtaprO2cJRG5gwdUvb9tMNBltg3XvOIoHTovvi8LAw3vW\n",
       "7w0NGR5mZ55Mik74a0O2gz/O0G1R3/X5CFG9KvA8mFn2ej4/irkqiV9VJJARlHqTnXxNV9eYae4q\n",
       "ljlUgvsLtBTTUceirwcqnlm84YA5ygC/uoqk2si3H61D0qsxxqrhIUPRdeb+7iCcy7R1Edq7dVgE\n",
       "OKknlIGUg5uggBOKs0oU8cuaxGQZZVvxLA52AMC+QxTkcoTpeytfXsdeEd+9cezudYAe9NBA+9Te\n",
       "NlIAyklazFwcsGvyZWyr0G3UCaev5vNctyL8PuiCgfu62PQKdYyhPwwH9yWZMsI3Sdp0kuZ8eTpZ\n",
       "F2eSl46lNwfHYIqw3aG6f9wgMBnDM3t74DqZG30Lc5b5FL7RLaO9LYifOlQLJORYjduVfRxOmG2d\n",
       "SktpKoGIOqSNIofx17KYMWS6p4lojXdHW9SNSXerHLMTtFFAOw3cAsilb9vCp6YLEz0I9Tho/zpt\n",
       "DXE7EoPDoBD9qaGq5hIjwEhDy4tCU2TKUbLm6vgrwDqffyt6kc/wvRCGK8FvlOfw10pP34rnMsUy\n",
       "LZN5eEubA0HrJJqveTbSEPfzM6TWLfXBqvqQfxBL/Yq0+fP7G3N/hhaeJs02kTK59O7+aMbCqSGj\n",
       "a6z3pwTsgYqNpQwcLpUT0n/Iu4oju9ArCLijo9Q43EK1Hf+aJoBsRfSJIE1EqgPM0YHge+0Zbtmb\n",
       "gAAAAg1BmhdJqEFomUwII//+tSqADaRLpRACwD5BMLf/0k7/bF3Th47cdi2tVyIAJQRSM5IEO3EY\n",
       "KxElCRrWNLawBss8nywRR5vNdfsJ4V234zQSdGWZEP48vKcE8KjPtgKMtjPc1tEP3h4QFEeQ7YDA\n",
       "qyZPiFeWGwde/Kc0C+78rm0Cdps4/UoODms/vVws/M8Bac8/5kbQNHUrdmxyaKbYapxSKsG3RmBA\n",
       "7OZGuHrDuHBHqHbARcCZXiC+fGZDWHlUHEgbGw/Br6WT3w+2f1FoPNgLwxz6vcU4ItvkJrVnBQ7a\n",
       "vGuenQfjQWWzLYiYvzcEZkAJLi90DMuAUwXdmGMCZ0MCD4FtzqCqpCa/JVekFyQuAQUngiRBwdPG\n",
       "U/HSxk19cS/qnKeCavAqXIeavvUfQr9+ovbhEapUOuVJ+ivWpqZZhJEWdK91rdzRYlMhLANGDsvQ\n",
       "LUo5zrU3ONNCXnRRSdJtbP+2Z4dcGoDSZUR5kT2jFFv+5ubCJKYlLeI3VNRtLBlVQyrqImh4gc8j\n",
       "nMzvgMZJxXShHaTPX1l2ZoU5gCQ3TCa24hrf4VjRO1yRwnDQXNcF73XFBxvzT7Njn7aaM2DTp+aO\n",
       "Djik2sxOfkRoSw9MmI8wlQFgkfJJJHfvhw29z38zUHJCl4Yvw4xAcfFT4i/MGEucWzwSJjLZT5p9\n",
       "r+/xf8WTck8DjJYZVJZ9s6UAAAEgQZo7SeEKUmUwIf/+qZYAapYGbsAH79X/qCFGI4DJJvxvWK2R\n",
       "JVqBec+enn3idC7vi3Jq7oG75UHsuAvin4B5XKUVaKk3CRnox/D/jWqOkZ39dU8lLQ8cwBF1c762\n",
       "xMhDs/sgeja6nHC31CyX+tuIG0JlKW5lJjW6GSRo8Ekyp7niURHsZB8NlQ/j3ugN7+iwch5jOGrs\n",
       "D0HqAxnbp1jbbv+p3GB0SH1s18ZW7KwRaXojmFIiEQRJCKVXHSkPC9YNwDSzBDb25iQa1M//5vB7\n",
       "dRNj4FWP9gmKZ3YsqMhmAoSOJJWUyACV6MKV5KJUVAqq6nhPb9aGpLWF3faG198Dyd/Bw4oTkVqN\n",
       "sxtE/3cSFCDlWDDPQVo5a24V3kuRJRthAAABx0GeWUU0TD//ACexjGDmOBVaAC0szI/7Cg7lXrYy\n",
       "IzSN+RHXlNvbAtHur3Pi4tT1qk/Rpj3M9+1/fZNVQ8+DMI1cN1Fu4nQqexk11oXhCqfkeOuyrQbw\n",
       "fHuEHVrHCyKEDb8SfzMLBRl6zBCjZ8gycW649iqoDY3cgVRRYFzuit+ctd2IYiUdXgPyBPoo8aSU\n",
       "j6Cve55MIHjPriEINKaP4Syeqvmz//9qK7nTWPFPzxbC499mClvrA23To2sE9/+zoI/puBCF2hf1\n",
       "y0dgjh1oekhfXBoQZekGpmhfm0m7wN5rmtVXZr9hoQG+F6F2Z1zAwwXB8yRWNugTQO7hcFL5z3Ku\n",
       "mmt15QSAkXvCzCfrZjAHgGIuAaFaP+V2GooAUuWXoc7/ZnfJnHg3tVxEelyEsJsTkxgFm2kAVoHJ\n",
       "ouQalFoj+nC1DUVJi06XLrI4BMY5B6Ro91GNmqhurr3+tF41fdflWBQaHFSZ+q6FoOgWxfS5zfXv\n",
       "PBvkNoSicxCyO0ToseoIk/hh37TS5fpBA/rr5n/go4ASbqS7L6/me8SjCEhEJKMFs0EW6lh5V2G/\n",
       "OMILBl7mjbCIPo/IOtkHhjdV9JTpCmYiQ7m7AAADuwGeeHRDfwBOrfWqcD0ueQPkgTyHKPM6Ijnn\n",
       "0NA0uVUnIISvWyhRGaVlRL2Yok+cCtGiLadzWoBDnC4vHJHi3xW9wxTPkDW2hTXTHV0Z33dQDms4\n",
       "Omih43UItgF4/w7/tsWKnP1HpSgubP4wB0Z2uqZ+F9pl+ilEyb3Q7eNEGWMOhB4exO7ZuWR9/3b6\n",
       "CFutnxrciWnpTWHGKK1Y7mrDSVyGZ5/wopYu08Zpv0KPURBvM/+OjijLNI9hpUtl8npLpbaW2QlG\n",
       "9gTBvdqpUNYCeFfmb258TKmNvqqAJL31jJs9pR75hzvtiuFb5OKcrZHVHBaGlkWQ2Tn9IsZe3Uef\n",
       "9LqqVMb4QovGpHFibujZKfrD34iX5+bWQiMb61eZWtjnr4ndwkaezrHqM+uN8vTlOjjl4mE9kLrS\n",
       "FmaXf9Z57LHuzrzQkHR3p5QtMxsinEKzme1xzLyn8iDfbDiAd53AUb+unsYW9xaT0BvoxP8Zzhmi\n",
       "TwOo9u3BTARR8G/anaIh/2HHEssDtNNKh+HFg0VSqeW1XPI4eMs5SZ+9xfwCFz5JhhmPGX7P4Euu\n",
       "Cioar0geic1GVgxob3DzaYBgCPchAWrTYjdIIkQPcSfa8HFS+kFraZl1D6l61lw63qxfL2/QMb8E\n",
       "wH1Af9McaZ6yUBjJqU/hWKoPDzc5mQCB9Qb/KZ1lzRyV1feUcpyRTVpVlhvySscXR/gHYRdLNtZg\n",
       "dNI3TA6bs0sDwUOkDLCCH2WXLZxLlIful7gbFl1VrCEfDISYN8p1Sqe74hMxyKe5yZdCDbC2eks7\n",
       "LySnpnWmcySDqf93f8BmkV1bCmpIID6LiM+Tlhos8gyr+nLMkvEClhEc3CrkQkE0uIpJR0pe+lYw\n",
       "3kCdMOZ/svHVi8+ZO0Ht3cBY1gFTacYAhYePI4WqPP94QE/PwSPqYEonx3MMvc90KobNVyTeILt7\n",
       "yA4+gkCd1XcMa6DuXwUv5S23/YDZiMD6SLX2IrhCXNCA0pHKm+myeMw7K/yOTrXJd8NCF3je3mKw\n",
       "UrAPpn/ZRX2osqX4wr/Lbv02gXeIv6/mDOkab28uh7h4gRv+8cn+RHIBeiq/VK0zT2GmOB+4oI4V\n",
       "J5hhyKwUAprLl09SvQfq8jFWIVTK7p8quTeLe46xVInCEzU2Nfvnh1RaisPcI4GXUrxfg5xDg8oE\n",
       "hMEXTvjD7kk1k5CPvf1dEemyceGlpwO9WvomyEJrp2NAMKVjEkiUC58Y8jJFZkkkLztPePhPIHp6\n",
       "tlBUY/+OJZ9ojiOkEUlHAn8AAAK3AZ56akN/AE6t/GKOTQAegZU0vuUEVMcLF4WaYcdArDxPLtx6\n",
       "v0zKJisIU0EnuwqYj1aEKh2hb+z0afeZznpF+ckWCSLjULi3pDg+uppAAuA9+ZkJmM1lLIClPA4Q\n",
       "VsRkpdMKGmvkG56wOlGYy9c2wQoZDAl3rtdm/oGDfFn7H2ERkPN1+kxbHlZvkazY9LNQz8FOZk+4\n",
       "SXz0CjpeRyfyxUilwz1SaToVDdDZwZ7dSEETNGzMGJJMXFjt6WThakFUKwFesvq5r2aYJQKvQTQZ\n",
       "F2Bebp9NsFmAcg2/ejGKYhpPCnXj6PA1or46QTZx6lfG+93tWcOgzSfj+qGF1/qFEgvkgLesh1Km\n",
       "sBLJf60NBiauhI+iulBVvrj6ay8JrHWhIDGGk0l5jJI7+Lmptt5nw8NMH1+slqT8KeZCrNAdaDQ/\n",
       "lL7VCs+lLH2C9yGMz7PMn8HHcU4xBISDGvp52NOPKUEfXxpLuoyd8jrbNKLIYp1AAsChh/lYizXC\n",
       "O2NW8C7XFMWsWkUDULpzntnj3WOzW17cuNAK9M0hPF+tU/9W1V2oTxR8k0zWKmibGR+ckhHOrc/6\n",
       "4K4Dlrxqf255pDL0SV9CqN4YVfmFr/D5zlRbDUK55CJXcEypznYEmKlpaMy9/Tii2NKsgd8xyQ37\n",
       "Bdy0CiRgh4cHDlrmtzLZswN07mg40NnrZPc4ThboPLSJxmn/JG9KqVuHNtClm0CeDtrzAe+CYi5n\n",
       "pODTCOiT9n54F5M0mqu/iDEVsRKsiGzy9vL9tJUp02FXZ3NW2/KkslqbGvv7fzwPUnBwfx1maeZO\n",
       "BDM8lqUTfJX/UL04NJbSvi8sveQbI0IhsV1JiPedKujNRAphDPO+Lj/8jzumnRm73+IRNVUQr/Ov\n",
       "NOFLzyhB8fgDoZivrWSm+Vvoezw9f73DCUYp9Nz/JtAAAADLQZp8SahBaJlMCG///qeEANK9cNSQ\n",
       "At5i4sh8baodkZh13UyBtSAqDTyiyAn+y9HGCJbm9haJng8adLHGoY7dVz5JVUsA75H9oDimKe0L\n",
       "/4PQjpjiE59812XenDvhiiuZl25RXlyLOgKQABk5+sFfdhHaGl5XgzC0psMnbARjIAmc34IwI34u\n",
       "V5quTnOopHfjTeO0J1/nDA4n9knelEqNuksWSum9qDLeBgM1ux52M+iZsijizyH15Krer8CMF2k8\n",
       "jhLQlwCgEdS7+48AAARbbW9vdgAAAGxtdmhkAAAAAAAAAAAAAAAAAAAD6AAADZgAAQAAAQAAAAAA\n",
       "AAAAAAAAAAEAAAAAAAAAAAAAAAAAAAABAAAAAAAAAAAAAAAAAABAAAAAAAAAAAAAAAAAAAAAAAAA\n",
       "AAAAAAAAAAAAAAAAAgAAA4V0cmFrAAAAXHRraGQAAAADAAAAAAAAAAAAAAABAAAAAAAADZgAAAAA\n",
       "AAAAAAAAAAAAAAAAAAEAAAAAAAAAAAAAAAAAAAABAAAAAAAAAAAAAAAAAABAAAAAAWgAAAFoAAAA\n",
       "AAAkZWR0cwAAABxlbHN0AAAAAAAAAAEAAA2YAAAMAAABAAAAAAL9bWRpYQAAACBtZGhkAAAAAAAA\n",
       "AAAAAAAAAAAyAAAArgBVxAAAAAAALWhkbHIAAAAAAAAAAHZpZGUAAAAAAAAAAAAAAABWaWRlb0hh\n",
       "bmRsZXIAAAACqG1pbmYAAAAUdm1oZAAAAAEAAAAAAAAAAAAAACRkaW5mAAAAHGRyZWYAAAAAAAAA\n",
       "AQAAAAx1cmwgAAAAAQAAAmhzdGJsAAAAtHN0c2QAAAAAAAAAAQAAAKRhdmMxAAAAAAAAAAEAAAAA\n",
       "AAAAAAAAAAAAAAAAAWgBaABIAAAASAAAAAAAAAABAAAAAAAAAAAAAAAAAAAAAAAAAAAAAAAAAAAA\n",
       "AAAAAAAAGP//AAAAMmF2Y0MBZAAV/+EAGWdkABWs2UFwv5ZYQAAAAwDAAAAMg8WLZYABAAZo6+PL\n",
       "IsAAAAAcdXVpZGtoQPJfJE/FujmlG88DI/MAAAAAAAAAGHN0dHMAAAAAAAAAAQAAAB0AAAYAAAAA\n",
       "FHN0c3MAAAAAAAAAAQAAAAEAAADIY3R0cwAAAAAAAAAXAAAABAAADAAAAAABAAASAAAAAAEAAAYA\n",
       "AAAAAwAADAAAAAABAAAeAAAAAAEAAAwAAAAAAQAAAAAAAAABAAAGAAAAAAEAAB4AAAAAAQAADAAA\n",
       "AAABAAAAAAAAAAEAAAYAAAAAAgAADAAAAAABAAAeAAAAAAEAAAwAAAAAAQAAAAAAAAABAAAGAAAA\n",
       "AAEAAAwAAAAAAQAAHgAAAAABAAAMAAAAAAEAAAAAAAAAAQAABgAAAAABAAAMAAAAABxzdHNjAAAA\n",
       "AAAAAAEAAAABAAAAHQAAAAEAAACIc3RzegAAAAAAAAAAAAAAHQAAEKQAAAQ6AAAE8wAABZ8AAAVb\n",
       "AAAEgQAABFYAAASnAAAFhQAAAp4AAAQIAAAEOAAAA5oAAAUtAAAFHAAAA04AAAPYAAAC7wAABPsA\n",
       "AAIfAAAEWAAABAYAAALTAAACEQAAASQAAAHLAAADvwAAArsAAADPAAAAFHN0Y28AAAAAAAAAAQAA\n",
       "ACwAAABidWR0YQAAAFptZXRhAAAAAAAAACFoZGxyAAAAAAAAAABtZGlyYXBwbAAAAAAAAAAAAAAA\n",
       "AC1pbHN0AAAAJal0b28AAAAdZGF0YQAAAAEAAAAATGF2ZjU3LjgzLjEwMA==\n",
       "\">\n",
       "  Your browser does not support the video tag.\n",
       "</video>"
      ],
      "text/plain": [
       "<IPython.core.display.HTML object>"
      ]
     },
     "execution_count": 23,
     "metadata": {
      "tags": []
     },
     "output_type": "execute_result"
    }
   ],
   "source": [
    "# for loop이 종료되고나서 camera 인스턴스의 animate함수를 이용해서 이어붙이기\n",
    "animation = camera.animate(interval=120, blit=True)\n",
    "\n",
    "# jupyter에서 gif 보여주기\n",
    "HTML(animation.to_html5_video())"
   ]
  },
  {
   "cell_type": "markdown",
   "metadata": {
    "colab_type": "text",
    "id": "f1idE0BE9wtB"
   },
   "source": [
    "### STEP5 : 최적화과정 GIF 저장 "
   ]
  },
  {
   "cell_type": "code",
   "execution_count": 0,
   "metadata": {
    "colab": {
     "base_uri": "https://localhost:8080/",
     "height": 68
    },
    "colab_type": "code",
    "id": "3FcYm9yS9wtC",
    "outputId": "78cf6e4c-1a21-4ee2-cc93-00d0be80d369"
   },
   "outputs": [
    {
     "name": "stderr",
     "output_type": "stream",
     "text": [
      "/usr/local/lib/python3.6/dist-packages/ipykernel_launcher.py:6: MatplotlibDeprecationWarning: \n",
      "The frameon kwarg was deprecated in Matplotlib 3.1 and will be removed in 3.3. Use facecolor instead.\n",
      "  \n"
     ]
    }
   ],
   "source": [
    "# .mp4 파일로 저장\n",
    "animation.save(\n",
    "    'regression_ML.mp4',\n",
    "    dpi=100,\n",
    "    savefig_kwargs={\n",
    "        'frameon': False,\n",
    "        'pad_inches': 'tight'\n",
    "    }\n",
    ")"
   ]
  },
  {
   "cell_type": "code",
   "execution_count": 0,
   "metadata": {
    "colab": {},
    "colab_type": "code",
    "id": "afgaVNkRR5Mw"
   },
   "outputs": [],
   "source": []
  }
 ],
 "metadata": {
  "colab": {
   "collapsed_sections": [],
   "include_colab_link": true,
   "name": "파이썬을_활용한_선형회귀모델_구현.ipynb의 사본",
   "provenance": []
  },
  "kernelspec": {
   "display_name": "Python 3",
   "language": "python",
   "name": "python3"
  },
  "language_info": {
   "codemirror_mode": {
    "name": "ipython",
    "version": 3
   },
   "file_extension": ".py",
   "mimetype": "text/x-python",
   "name": "python",
   "nbconvert_exporter": "python",
   "pygments_lexer": "ipython3",
   "version": "3.6.10"
  },
  "latex_envs": {
   "LaTeX_envs_menu_present": true,
   "autoclose": false,
   "autocomplete": true,
   "bibliofile": "biblio.bib",
   "cite_by": "apalike",
   "current_citInitial": 1,
   "eqLabelWithNumbers": true,
   "eqNumInitial": 1,
   "hotkeys": {
    "equation": "Ctrl-E",
    "itemize": "Ctrl-I"
   },
   "labels_anchors": false,
   "latex_user_defs": false,
   "report_style_numbering": false,
   "user_envs_cfg": false
  },
  "toc": {
   "base_numbering": 1,
   "nav_menu": {},
   "number_sections": true,
   "sideBar": true,
   "skip_h1_title": false,
   "title_cell": "Table of Contents",
   "title_sidebar": "Contents",
   "toc_cell": false,
   "toc_position": {},
   "toc_section_display": true,
   "toc_window_display": false
  },
  "varInspector": {
   "cols": {
    "lenName": 16,
    "lenType": 16,
    "lenVar": 40
   },
   "kernels_config": {
    "python": {
     "delete_cmd_postfix": "",
     "delete_cmd_prefix": "del ",
     "library": "var_list.py",
     "varRefreshCmd": "print(var_dic_list())"
    },
    "r": {
     "delete_cmd_postfix": ") ",
     "delete_cmd_prefix": "rm(",
     "library": "var_list.r",
     "varRefreshCmd": "cat(var_dic_list()) "
    }
   },
   "types_to_exclude": [
    "module",
    "function",
    "builtin_function_or_method",
    "instance",
    "_Feature"
   ],
   "window_display": false
  }
 },
 "nbformat": 4,
 "nbformat_minor": 1
}
