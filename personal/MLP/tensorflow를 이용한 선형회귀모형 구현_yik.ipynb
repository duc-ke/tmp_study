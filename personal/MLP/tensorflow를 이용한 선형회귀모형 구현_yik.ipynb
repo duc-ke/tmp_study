{
  "nbformat": 4,
  "nbformat_minor": 0,
  "metadata": {
    "kernelspec": {
      "display_name": "clustering",
      "language": "python",
      "name": "clustering"
    },
    "language_info": {
      "codemirror_mode": {
        "name": "ipython",
        "version": 3
      },
      "file_extension": ".py",
      "mimetype": "text/x-python",
      "name": "python",
      "nbconvert_exporter": "python",
      "pygments_lexer": "ipython3",
      "version": "3.6.10"
    },
    "colab": {
      "name": "tensorflow를 이용한 선형회귀모형 구현_yik.ipynb",
      "provenance": []
    }
  },
  "cells": [
    {
      "cell_type": "code",
      "metadata": {
        "id": "IZFJ2-GeJi3x",
        "colab_type": "code",
        "colab": {},
        "outputId": "91b42abc-d9e0-4c2f-fdf4-97e83383b9e2"
      },
      "source": [
        "import tensorflow.compat.v1 as tf\n",
        "tf.disable_v2_behavior()\n",
        "import numpy as np\n",
        "import matplotlib.pyplot as plt"
      ],
      "execution_count": 0,
      "outputs": [
        {
          "output_type": "stream",
          "text": [
            "WARNING:tensorflow:From /home/kehyeong/miniconda3/envs/clustering/lib/python3.6/site-packages/tensorflow/python/compat/v2_compat.py:96: disable_resource_variables (from tensorflow.python.ops.variable_scope) is deprecated and will be removed in a future version.\n",
            "Instructions for updating:\n",
            "non-resource variables are not supported in the long term\n"
          ],
          "name": "stdout"
        }
      ]
    },
    {
      "cell_type": "code",
      "metadata": {
        "id": "lKwX0b6lJjw8",
        "colab_type": "code",
        "colab": {}
      },
      "source": [
        ""
      ],
      "execution_count": 0,
      "outputs": []
    },
    {
      "cell_type": "markdown",
      "metadata": {
        "id": "3fPo4LQZJklX",
        "colab_type": "text"
      },
      "source": [
        "ddsfdfsdf"
      ]
    },
    {
      "cell_type": "code",
      "metadata": {
        "id": "bJ3wV1s_Ji32",
        "colab_type": "code",
        "colab": {},
        "outputId": "11cc6b94-a458-4f14-d1c6-95efcf59ba82"
      },
      "source": [
        "data = np.loadtxt('data/heigh_weight.csv', delimiter = ',', skiprows = 1)\n",
        "data"
      ],
      "execution_count": 0,
      "outputs": [
        {
          "output_type": "execute_result",
          "data": {
            "text/plain": [
              "array([[170.,  70.],\n",
              "       [168.,  66.],\n",
              "       [177.,  73.],\n",
              "       [181.,  77.],\n",
              "       [172.,  74.],\n",
              "       [171.,  73.],\n",
              "       [169.,  69.],\n",
              "       [175.,  79.],\n",
              "       [174.,  77.],\n",
              "       [178.,  80.],\n",
              "       [170.,  74.],\n",
              "       [167.,  68.],\n",
              "       [177.,  71.],\n",
              "       [182.,  76.],\n",
              "       [173.,  78.],\n",
              "       [171.,  72.],\n",
              "       [170.,  68.],\n",
              "       [179.,  79.],\n",
              "       [175.,  77.],\n",
              "       [177.,  81.],\n",
              "       [186.,  84.],\n",
              "       [166.,  73.],\n",
              "       [183.,  78.],\n",
              "       [168.,  69.]])"
            ]
          },
          "metadata": {
            "tags": []
          },
          "execution_count": 17
        }
      ]
    },
    {
      "cell_type": "code",
      "metadata": {
        "id": "uMTGsm_LJi37",
        "colab_type": "code",
        "colab": {}
      },
      "source": [
        "# 훈련 데이터 \n",
        "\n",
        "x = data[:,0]\n",
        "y = data[:,1]"
      ],
      "execution_count": 0,
      "outputs": []
    },
    {
      "cell_type": "code",
      "metadata": {
        "id": "9lvYOFMGJi3-",
        "colab_type": "code",
        "colab": {}
      },
      "source": [
        "def z_score(x): \n",
        "    return(x - x.mean())/x.std()"
      ],
      "execution_count": 0,
      "outputs": []
    },
    {
      "cell_type": "code",
      "metadata": {
        "id": "0UQ0nsQeJi4B",
        "colab_type": "code",
        "colab": {}
      },
      "source": [
        "x = z_score(x)"
      ],
      "execution_count": 0,
      "outputs": []
    },
    {
      "cell_type": "code",
      "metadata": {
        "id": "6j90zohsJi4E",
        "colab_type": "code",
        "colab": {},
        "outputId": "686ec7b0-c4ad-4e4e-fbd7-a07a09ce51a3"
      },
      "source": [
        "x = tf.placeholder(dtype = tf.float32)\n",
        "x\n",
        "y = tf.placeholder(dtype = tf.float32)"
      ],
      "execution_count": 0,
      "outputs": [
        {
          "output_type": "execute_result",
          "data": {
            "text/plain": [
              "<tf.Tensor 'Placeholder_4:0' shape=<unknown> dtype=float32>"
            ]
          },
          "metadata": {
            "tags": []
          },
          "execution_count": 35
        }
      ]
    },
    {
      "cell_type": "markdown",
      "metadata": {
        "id": "WXQxd_EYJi4H",
        "colab_type": "text"
      },
      "source": [
        "### Weight and Bias 무작위 숫자 제공"
      ]
    },
    {
      "cell_type": "code",
      "metadata": {
        "id": "2ZGIw4NiJi4I",
        "colab_type": "code",
        "colab": {}
      },
      "source": [
        "W = tf.Variable(np.random.randn(), name = \"Weight\")\n",
        "b = tf.Variable(np.random.randn(), name = \"bias\")"
      ],
      "execution_count": 0,
      "outputs": []
    },
    {
      "cell_type": "markdown",
      "metadata": {
        "id": "QrP_8SS-Ji4L",
        "colab_type": "text"
      },
      "source": [
        "### Hypothesis 설정"
      ]
    },
    {
      "cell_type": "code",
      "metadata": {
        "id": "MdaE2r87Ji4L",
        "colab_type": "code",
        "colab": {}
      },
      "source": [
        "# hypothesis \n",
        "h = W*x + b"
      ],
      "execution_count": 0,
      "outputs": []
    },
    {
      "cell_type": "markdown",
      "metadata": {
        "id": "2eTuSVtsJi4O",
        "colab_type": "text"
      },
      "source": [
        "### Cost Function (MSE 사용)"
      ]
    },
    {
      "cell_type": "code",
      "metadata": {
        "id": "z0RUYkdqJi4P",
        "colab_type": "code",
        "colab": {},
        "outputId": "5e637245-0884-46bf-acdc-2b25a55e2058"
      },
      "source": [
        "# cost function \n",
        "cost = tf.reduce_mean(tf.square(h - y))\n",
        "cost"
      ],
      "execution_count": 0,
      "outputs": [
        {
          "output_type": "execute_result",
          "data": {
            "text/plain": [
              "<tf.Tensor 'Mean_2:0' shape=() dtype=float32>"
            ]
          },
          "metadata": {
            "tags": []
          },
          "execution_count": 40
        }
      ]
    },
    {
      "cell_type": "code",
      "metadata": {
        "id": "URPgXg2OJi4R",
        "colab_type": "code",
        "colab": {}
      },
      "source": [
        "#Gradient Descent Method \n",
        "optimizer = tf.train.GradientDescentOptimizer(learning_rate = 0.001)\n",
        "train = optimizer.minimize(cost)\n",
        "# optimizer = tf.train.GradientDescentOptimizer(learning_rate).minimize(cost)"
      ],
      "execution_count": 0,
      "outputs": []
    },
    {
      "cell_type": "code",
      "metadata": {
        "id": "e2YdxIk7Ji4V",
        "colab_type": "code",
        "colab": {}
      },
      "source": [
        "sess = tf.Session()\n",
        "sess.run(tf.global_variables_initializer())"
      ],
      "execution_count": 0,
      "outputs": []
    },
    {
      "cell_type": "code",
      "metadata": {
        "id": "0aY6qzwAJi4Y",
        "colab_type": "code",
        "colab": {},
        "outputId": "adfeb0af-bf58-409f-e73f-0a594ddcff1d"
      },
      "source": [
        "for step in range (10000): \n",
        "    sess.run(train)\n",
        "    if step %20 == 0:\n",
        "        print(step, sess.run(cost), sess.run(W), sess.run(b))"
      ],
      "execution_count": 0,
      "outputs": [
        {
          "output_type": "error",
          "ename": "RuntimeError",
          "evalue": "Attempted to use a closed Session.",
          "traceback": [
            "\u001b[0;31m---------------------------------------------------------------------------\u001b[0m",
            "\u001b[0;31mRuntimeError\u001b[0m                              Traceback (most recent call last)",
            "\u001b[0;32m<ipython-input-42-8fd9cc92af00>\u001b[0m in \u001b[0;36m<module>\u001b[0;34m\u001b[0m\n\u001b[1;32m      1\u001b[0m \u001b[0;32mfor\u001b[0m \u001b[0mstep\u001b[0m \u001b[0;32min\u001b[0m \u001b[0mrange\u001b[0m \u001b[0;34m(\u001b[0m\u001b[0;36m10000\u001b[0m\u001b[0;34m)\u001b[0m\u001b[0;34m:\u001b[0m\u001b[0;34m\u001b[0m\u001b[0;34m\u001b[0m\u001b[0m\n\u001b[0;32m----> 2\u001b[0;31m     \u001b[0msess\u001b[0m\u001b[0;34m.\u001b[0m\u001b[0mrun\u001b[0m\u001b[0;34m(\u001b[0m\u001b[0mtrain\u001b[0m\u001b[0;34m)\u001b[0m\u001b[0;34m\u001b[0m\u001b[0;34m\u001b[0m\u001b[0m\n\u001b[0m\u001b[1;32m      3\u001b[0m     \u001b[0;32mif\u001b[0m \u001b[0mstep\u001b[0m \u001b[0;34m%\u001b[0m\u001b[0;36m20\u001b[0m \u001b[0;34m==\u001b[0m \u001b[0;36m0\u001b[0m\u001b[0;34m:\u001b[0m\u001b[0;34m\u001b[0m\u001b[0;34m\u001b[0m\u001b[0m\n\u001b[1;32m      4\u001b[0m         \u001b[0mprint\u001b[0m\u001b[0;34m(\u001b[0m\u001b[0mstep\u001b[0m\u001b[0;34m,\u001b[0m \u001b[0msess\u001b[0m\u001b[0;34m.\u001b[0m\u001b[0mrun\u001b[0m\u001b[0;34m(\u001b[0m\u001b[0mcost\u001b[0m\u001b[0;34m)\u001b[0m\u001b[0;34m,\u001b[0m \u001b[0msess\u001b[0m\u001b[0;34m.\u001b[0m\u001b[0mrun\u001b[0m\u001b[0;34m(\u001b[0m\u001b[0mW\u001b[0m\u001b[0;34m)\u001b[0m\u001b[0;34m,\u001b[0m \u001b[0msess\u001b[0m\u001b[0;34m.\u001b[0m\u001b[0mrun\u001b[0m\u001b[0;34m(\u001b[0m\u001b[0mb\u001b[0m\u001b[0;34m)\u001b[0m\u001b[0;34m)\u001b[0m\u001b[0;34m\u001b[0m\u001b[0;34m\u001b[0m\u001b[0m\n",
            "\u001b[0;32m~/miniconda3/envs/clustering/lib/python3.6/site-packages/tensorflow/python/client/session.py\u001b[0m in \u001b[0;36mrun\u001b[0;34m(self, fetches, feed_dict, options, run_metadata)\u001b[0m\n",
            "\u001b[0;32m~/miniconda3/envs/clustering/lib/python3.6/site-packages/tensorflow/python/client/session.py\u001b[0m in \u001b[0;36m_run\u001b[0;34m(self, handle, fetches, feed_dict, options, run_metadata)\u001b[0m\n",
            "\u001b[0;31mRuntimeError\u001b[0m: Attempted to use a closed Session."
          ]
        }
      ]
    },
    {
      "cell_type": "code",
      "metadata": {
        "id": "PfY4SssbJi4a",
        "colab_type": "code",
        "colab": {}
      },
      "source": [
        "for step in range(1000): \n",
        "    sess.run(train, feed_dict = {X:})\n",
        "    "
      ],
      "execution_count": 0,
      "outputs": []
    }
  ]
}